{
  "cells": [
    {
      "cell_type": "markdown",
      "metadata": {
        "id": "AXjFNSIynEKL"
      },
      "source": [
        "# Final Project\n",
        "\n",
        "Target: Given a match between two teams of the FIFA 2022 World Cup, what is the result of the match?"
      ]
    },
    {
      "cell_type": "markdown",
      "metadata": {
        "id": "uz8fs64mnwT_"
      },
      "source": [
        "## First exploration on the data"
      ]
    },
    {
      "cell_type": "code",
      "execution_count": 3,
      "metadata": {
        "id": "DNpJ1JJf179q"
      },
      "outputs": [],
      "source": [
        "import joblib\n",
        "import pandas as pd\n",
        "import numpy as np\n",
        "import matplotlib.pyplot as plt\n",
        "import seaborn as sns\n",
        "\n",
        "from sklearn.tree import DecisionTreeClassifier\n",
        "from sklearn.ensemble import RandomForestClassifier, GradientBoostingClassifier\n",
        "from sklearn.model_selection import GridSearchCV\n",
        "from sklearn.preprocessing import StandardScaler\n",
        "from sklearn.metrics import accuracy_score, precision_score, recall_score, confusion_matrix, classification_report, make_scorer"
      ]
    },
    {
      "cell_type": "code",
      "execution_count": 4,
      "metadata": {
        "id": "IlVGbCxo3Qq4"
      },
      "outputs": [],
      "source": [
        "# Reading the dataset\n",
        "df_raw = pd.read_csv(\"../data/raw/results.csv\")"
      ]
    },
    {
      "cell_type": "markdown",
      "metadata": {
        "id": "sGyOfza58SjS"
      },
      "source": [
        "Content\n",
        "This dataset includes 43,170 results of international football matches starting from the very first official match in 1972 up to 2019. The matches range from FIFA World Cup to FIFI Wild Cup to regular friendly matches. The matches are strictly men's full internationals and the data does not include Olympic Games or matches where at least one of the teams was the nation's B-team, U-23 or a league select team.\n",
        "\n",
        "results.csv includes the following columns:\n",
        "\n",
        "**date** - date of the match\n",
        "\n",
        "**home_team** - the name of the home team\n",
        "\n",
        "**away_team** - the name of the away team\n",
        "\n",
        "**home_score** - full-time home team score including extra time, not including penalty-shootouts\n",
        "\n",
        "**away_score** - full-time away team score including extra time, not including penalty-shootouts\n",
        "\n",
        "**tournament** - the name of the tournament\n",
        "\n",
        "**city** - the name of the city/town/administrative unit where the match was played\n",
        "\n",
        "**country** - the name of the country where the match was played\n",
        "\n",
        "**neutral** - TRUE/FALSE column indicating whether the match was played at a neutral venue"
      ]
    },
    {
      "cell_type": "code",
      "execution_count": 5,
      "metadata": {
        "colab": {
          "base_uri": "https://localhost:8080/"
        },
        "id": "Hi1aMKFC6bAr",
        "outputId": "28c0c5d8-6e6c-43d4-9cef-97e2006ffa2b"
      },
      "outputs": [
        {
          "name": "stdout",
          "output_type": "stream",
          "text": [
            "<class 'pandas.core.frame.DataFrame'>\n",
            "RangeIndex: 43752 entries, 0 to 43751\n",
            "Data columns (total 9 columns):\n",
            " #   Column      Non-Null Count  Dtype \n",
            "---  ------      --------------  ----- \n",
            " 0   date        43752 non-null  object\n",
            " 1   home_team   43752 non-null  object\n",
            " 2   away_team   43752 non-null  object\n",
            " 3   home_score  43752 non-null  int64 \n",
            " 4   away_score  43752 non-null  int64 \n",
            " 5   tournament  43752 non-null  object\n",
            " 6   city        43752 non-null  object\n",
            " 7   country     43752 non-null  object\n",
            " 8   neutral     43752 non-null  bool  \n",
            "dtypes: bool(1), int64(2), object(6)\n",
            "memory usage: 2.7+ MB\n"
          ]
        }
      ],
      "source": [
        "df_raw.info()"
      ]
    },
    {
      "cell_type": "code",
      "execution_count": 6,
      "metadata": {
        "colab": {
          "base_uri": "https://localhost:8080/",
          "height": 206
        },
        "id": "MVxayBUI8me_",
        "outputId": "846114ed-b1d0-41c2-de99-05d773be1ebb"
      },
      "outputs": [
        {
          "data": {
            "text/html": [
              "<div>\n",
              "<style scoped>\n",
              "    .dataframe tbody tr th:only-of-type {\n",
              "        vertical-align: middle;\n",
              "    }\n",
              "\n",
              "    .dataframe tbody tr th {\n",
              "        vertical-align: top;\n",
              "    }\n",
              "\n",
              "    .dataframe thead th {\n",
              "        text-align: right;\n",
              "    }\n",
              "</style>\n",
              "<table border=\"1\" class=\"dataframe\">\n",
              "  <thead>\n",
              "    <tr style=\"text-align: right;\">\n",
              "      <th></th>\n",
              "      <th>date</th>\n",
              "      <th>home_team</th>\n",
              "      <th>away_team</th>\n",
              "      <th>home_score</th>\n",
              "      <th>away_score</th>\n",
              "      <th>tournament</th>\n",
              "      <th>city</th>\n",
              "      <th>country</th>\n",
              "      <th>neutral</th>\n",
              "    </tr>\n",
              "  </thead>\n",
              "  <tbody>\n",
              "    <tr>\n",
              "      <th>0</th>\n",
              "      <td>1872-11-30</td>\n",
              "      <td>Scotland</td>\n",
              "      <td>England</td>\n",
              "      <td>0</td>\n",
              "      <td>0</td>\n",
              "      <td>Friendly</td>\n",
              "      <td>Glasgow</td>\n",
              "      <td>Scotland</td>\n",
              "      <td>False</td>\n",
              "    </tr>\n",
              "    <tr>\n",
              "      <th>1</th>\n",
              "      <td>1873-03-08</td>\n",
              "      <td>England</td>\n",
              "      <td>Scotland</td>\n",
              "      <td>4</td>\n",
              "      <td>2</td>\n",
              "      <td>Friendly</td>\n",
              "      <td>London</td>\n",
              "      <td>England</td>\n",
              "      <td>False</td>\n",
              "    </tr>\n",
              "    <tr>\n",
              "      <th>2</th>\n",
              "      <td>1874-03-07</td>\n",
              "      <td>Scotland</td>\n",
              "      <td>England</td>\n",
              "      <td>2</td>\n",
              "      <td>1</td>\n",
              "      <td>Friendly</td>\n",
              "      <td>Glasgow</td>\n",
              "      <td>Scotland</td>\n",
              "      <td>False</td>\n",
              "    </tr>\n",
              "    <tr>\n",
              "      <th>3</th>\n",
              "      <td>1875-03-06</td>\n",
              "      <td>England</td>\n",
              "      <td>Scotland</td>\n",
              "      <td>2</td>\n",
              "      <td>2</td>\n",
              "      <td>Friendly</td>\n",
              "      <td>London</td>\n",
              "      <td>England</td>\n",
              "      <td>False</td>\n",
              "    </tr>\n",
              "    <tr>\n",
              "      <th>4</th>\n",
              "      <td>1876-03-04</td>\n",
              "      <td>Scotland</td>\n",
              "      <td>England</td>\n",
              "      <td>3</td>\n",
              "      <td>0</td>\n",
              "      <td>Friendly</td>\n",
              "      <td>Glasgow</td>\n",
              "      <td>Scotland</td>\n",
              "      <td>False</td>\n",
              "    </tr>\n",
              "  </tbody>\n",
              "</table>\n",
              "</div>"
            ],
            "text/plain": [
              "         date home_team away_team  home_score  away_score tournament     city  \\\n",
              "0  1872-11-30  Scotland   England           0           0   Friendly  Glasgow   \n",
              "1  1873-03-08   England  Scotland           4           2   Friendly   London   \n",
              "2  1874-03-07  Scotland   England           2           1   Friendly  Glasgow   \n",
              "3  1875-03-06   England  Scotland           2           2   Friendly   London   \n",
              "4  1876-03-04  Scotland   England           3           0   Friendly  Glasgow   \n",
              "\n",
              "    country  neutral  \n",
              "0  Scotland    False  \n",
              "1   England    False  \n",
              "2  Scotland    False  \n",
              "3   England    False  \n",
              "4  Scotland    False  "
            ]
          },
          "execution_count": 6,
          "metadata": {},
          "output_type": "execute_result"
        }
      ],
      "source": [
        "df_raw.head()"
      ]
    },
    {
      "cell_type": "markdown",
      "metadata": {
        "id": "Ij2r9SFPjr9x"
      },
      "source": [
        "### Descriptive Statistics "
      ]
    },
    {
      "cell_type": "code",
      "execution_count": 7,
      "metadata": {
        "colab": {
          "base_uri": "https://localhost:8080/",
          "height": 112
        },
        "id": "gocIPVJDjy1z",
        "outputId": "db7c8b49-0fc8-4cea-eb93-04d7bec86640"
      },
      "outputs": [
        {
          "data": {
            "text/html": [
              "<div>\n",
              "<style scoped>\n",
              "    .dataframe tbody tr th:only-of-type {\n",
              "        vertical-align: middle;\n",
              "    }\n",
              "\n",
              "    .dataframe tbody tr th {\n",
              "        vertical-align: top;\n",
              "    }\n",
              "\n",
              "    .dataframe thead th {\n",
              "        text-align: right;\n",
              "    }\n",
              "</style>\n",
              "<table border=\"1\" class=\"dataframe\">\n",
              "  <thead>\n",
              "    <tr style=\"text-align: right;\">\n",
              "      <th></th>\n",
              "      <th>count</th>\n",
              "      <th>mean</th>\n",
              "      <th>std</th>\n",
              "      <th>min</th>\n",
              "      <th>25%</th>\n",
              "      <th>50%</th>\n",
              "      <th>75%</th>\n",
              "      <th>max</th>\n",
              "    </tr>\n",
              "  </thead>\n",
              "  <tbody>\n",
              "    <tr>\n",
              "      <th>home_score</th>\n",
              "      <td>43752.0</td>\n",
              "      <td>2.0</td>\n",
              "      <td>2.0</td>\n",
              "      <td>0.0</td>\n",
              "      <td>1.0</td>\n",
              "      <td>1.0</td>\n",
              "      <td>2.0</td>\n",
              "      <td>31.0</td>\n",
              "    </tr>\n",
              "    <tr>\n",
              "      <th>away_score</th>\n",
              "      <td>43752.0</td>\n",
              "      <td>1.0</td>\n",
              "      <td>1.0</td>\n",
              "      <td>0.0</td>\n",
              "      <td>0.0</td>\n",
              "      <td>1.0</td>\n",
              "      <td>2.0</td>\n",
              "      <td>21.0</td>\n",
              "    </tr>\n",
              "  </tbody>\n",
              "</table>\n",
              "</div>"
            ],
            "text/plain": [
              "              count  mean  std  min  25%  50%  75%   max\n",
              "home_score  43752.0   2.0  2.0  0.0  1.0  1.0  2.0  31.0\n",
              "away_score  43752.0   1.0  1.0  0.0  0.0  1.0  2.0  21.0"
            ]
          },
          "execution_count": 7,
          "metadata": {},
          "output_type": "execute_result"
        }
      ],
      "source": [
        "round(df_raw.describe().transpose())"
      ]
    },
    {
      "cell_type": "code",
      "execution_count": 8,
      "metadata": {
        "colab": {
          "base_uri": "https://localhost:8080/",
          "height": 238
        },
        "id": "YpJuJORjj4XX",
        "outputId": "65322280-9002-4553-8983-907a772e1984"
      },
      "outputs": [
        {
          "data": {
            "text/html": [
              "<div>\n",
              "<style scoped>\n",
              "    .dataframe tbody tr th:only-of-type {\n",
              "        vertical-align: middle;\n",
              "    }\n",
              "\n",
              "    .dataframe tbody tr th {\n",
              "        vertical-align: top;\n",
              "    }\n",
              "\n",
              "    .dataframe thead th {\n",
              "        text-align: right;\n",
              "    }\n",
              "</style>\n",
              "<table border=\"1\" class=\"dataframe\">\n",
              "  <thead>\n",
              "    <tr style=\"text-align: right;\">\n",
              "      <th></th>\n",
              "      <th>count</th>\n",
              "      <th>unique</th>\n",
              "      <th>top</th>\n",
              "      <th>freq</th>\n",
              "    </tr>\n",
              "  </thead>\n",
              "  <tbody>\n",
              "    <tr>\n",
              "      <th>date</th>\n",
              "      <td>43752</td>\n",
              "      <td>15462</td>\n",
              "      <td>2012-02-29</td>\n",
              "      <td>66</td>\n",
              "    </tr>\n",
              "    <tr>\n",
              "      <th>home_team</th>\n",
              "      <td>43752</td>\n",
              "      <td>306</td>\n",
              "      <td>Brazil</td>\n",
              "      <td>589</td>\n",
              "    </tr>\n",
              "    <tr>\n",
              "      <th>away_team</th>\n",
              "      <td>43752</td>\n",
              "      <td>303</td>\n",
              "      <td>Uruguay</td>\n",
              "      <td>556</td>\n",
              "    </tr>\n",
              "    <tr>\n",
              "      <th>tournament</th>\n",
              "      <td>43752</td>\n",
              "      <td>135</td>\n",
              "      <td>Friendly</td>\n",
              "      <td>17362</td>\n",
              "    </tr>\n",
              "    <tr>\n",
              "      <th>city</th>\n",
              "      <td>43752</td>\n",
              "      <td>1995</td>\n",
              "      <td>Kuala Lumpur</td>\n",
              "      <td>675</td>\n",
              "    </tr>\n",
              "    <tr>\n",
              "      <th>country</th>\n",
              "      <td>43752</td>\n",
              "      <td>267</td>\n",
              "      <td>United States</td>\n",
              "      <td>1251</td>\n",
              "    </tr>\n",
              "  </tbody>\n",
              "</table>\n",
              "</div>"
            ],
            "text/plain": [
              "            count unique            top   freq\n",
              "date        43752  15462     2012-02-29     66\n",
              "home_team   43752    306         Brazil    589\n",
              "away_team   43752    303        Uruguay    556\n",
              "tournament  43752    135       Friendly  17362\n",
              "city        43752   1995   Kuala Lumpur    675\n",
              "country     43752    267  United States   1251"
            ]
          },
          "execution_count": 8,
          "metadata": {},
          "output_type": "execute_result"
        }
      ],
      "source": [
        "df_raw.describe(include=\"O\").transpose()"
      ]
    },
    {
      "cell_type": "markdown",
      "metadata": {
        "id": "O-eo4mbgjOdb"
      },
      "source": [
        "### Null Values"
      ]
    },
    {
      "cell_type": "code",
      "execution_count": 9,
      "metadata": {
        "colab": {
          "base_uri": "https://localhost:8080/"
        },
        "id": "hGzkurk28swC",
        "outputId": "28792bae-84f2-424a-9b90-460c07ab5da0"
      },
      "outputs": [
        {
          "data": {
            "text/plain": [
              "date          0\n",
              "home_team     0\n",
              "away_team     0\n",
              "home_score    0\n",
              "away_score    0\n",
              "tournament    0\n",
              "city          0\n",
              "country       0\n",
              "neutral       0\n",
              "dtype: int64"
            ]
          },
          "execution_count": 9,
          "metadata": {},
          "output_type": "execute_result"
        }
      ],
      "source": [
        "df_raw.isnull().sum()"
      ]
    },
    {
      "cell_type": "markdown",
      "metadata": {
        "id": "hBQN8xiLjRtR"
      },
      "source": [
        "### Duplicated data"
      ]
    },
    {
      "cell_type": "code",
      "execution_count": 10,
      "metadata": {
        "colab": {
          "base_uri": "https://localhost:8080/"
        },
        "id": "7hM5j6fe84dS",
        "outputId": "10e07e2c-78f0-45c6-e00c-2f5e23ef6eec"
      },
      "outputs": [
        {
          "data": {
            "text/plain": [
              "0"
            ]
          },
          "execution_count": 10,
          "metadata": {},
          "output_type": "execute_result"
        }
      ],
      "source": [
        "df_raw.duplicated().sum()"
      ]
    },
    {
      "cell_type": "markdown",
      "metadata": {
        "id": "bjlDy_CXkEDW"
      },
      "source": [
        "### Unique values"
      ]
    },
    {
      "cell_type": "code",
      "execution_count": 11,
      "metadata": {
        "colab": {
          "base_uri": "https://localhost:8080/"
        },
        "id": "2E4Yyz4TkC5A",
        "outputId": "140a203c-0675-47c2-9027-cb2ef56f01e5"
      },
      "outputs": [
        {
          "data": {
            "text/plain": [
              "date          15462\n",
              "home_team       306\n",
              "away_team       303\n",
              "home_score       26\n",
              "away_score       22\n",
              "tournament      135\n",
              "city           1995\n",
              "country         267\n",
              "neutral           2\n",
              "dtype: int64"
            ]
          },
          "execution_count": 11,
          "metadata": {},
          "output_type": "execute_result"
        }
      ],
      "source": [
        "# Unique values\n",
        "df_raw.nunique()"
      ]
    },
    {
      "cell_type": "markdown",
      "metadata": {
        "id": "g8JVgqURuHE0"
      },
      "source": [
        "* The dataset doesn't have duplicated data or null values."
      ]
    },
    {
      "cell_type": "markdown",
      "metadata": {
        "id": "-jKFySQfkXKT"
      },
      "source": [
        "## Visualization and transformation of the data"
      ]
    },
    {
      "cell_type": "code",
      "execution_count": 12,
      "metadata": {
        "id": "zfekJ29bucDr"
      },
      "outputs": [],
      "source": [
        "# We make a copy of the original dataset\n",
        "df = df_raw.copy()"
      ]
    },
    {
      "cell_type": "markdown",
      "metadata": {
        "id": "lhnZ5ssOpPBQ"
      },
      "source": [
        "### Number of Matches played in equal intervals"
      ]
    },
    {
      "cell_type": "code",
      "execution_count": 13,
      "metadata": {
        "colab": {
          "base_uri": "https://localhost:8080/",
          "height": 404
        },
        "id": "2FnkEdp3o9Ke",
        "outputId": "55379059-9c28-4bb9-aa5d-0679f0d3f9fd"
      },
      "outputs": [
        {
          "data": {
            "image/png": "[encoded data removed]",
            "text/plain": [
              "<Figure size 1008x432 with 1 Axes>"
            ]
          },
          "metadata": {
            "needs_background": "light"
          },
          "output_type": "display_data"
        }
      ],
      "source": [
        "years = []\n",
        "for date in df_raw.date:\n",
        "    years.append(int(str(date)[0:4]))\n",
        "plt.figure(figsize=(14,6))\n",
        "plt.hist(years, density=True, bins=12, edgecolor=\"k\")\n",
        "plt.title(\"Histogram of Years\")\n",
        "plt.ylabel(\"Frequency\")\n",
        "plt.xlabel(\"Year\")\n",
        "plt.show()"
      ]
    },
    {
      "cell_type": "markdown",
      "metadata": {
        "id": "EydrR6cJpa5O"
      },
      "source": [
        "* We can observe that most matches are played after 1960 with a even greater increment after 2000."
      ]
    },
    {
      "cell_type": "code",
      "execution_count": 14,
      "metadata": {
        "id": "q-_UTG6EupAW"
      },
      "outputs": [],
      "source": [
        "# We split the date and store the year information in another column\n",
        "df[\"year\"]=pd.DatetimeIndex(df[\"date\"]).year"
      ]
    },
    {
      "cell_type": "code",
      "execution_count": 15,
      "metadata": {
        "colab": {
          "base_uri": "https://localhost:8080/"
        },
        "id": "DkdIYdoHt_R-",
        "outputId": "fd7bab4a-e0f0-4974-9be2-856ce372d5b1"
      },
      "outputs": [
        {
          "name": "stdout",
          "output_type": "stream",
          "text": [
            "      Number of games\n",
            "2019             1161\n",
            "2008             1095\n",
            "2021             1087\n",
            "2011             1083\n",
            "2004             1066\n",
            "2000             1026\n",
            "2001             1022\n",
            "2012             1007\n",
            "2015             1002\n",
            "2007              975\n",
            "2013              968\n",
            "2017              959\n",
            "2003              935\n",
            "2016              928\n",
            "2009              912\n"
          ]
        }
      ],
      "source": [
        "# Top 15 years with the most played games\n",
        "top_15 = pd.DataFrame(df[\"year\"].value_counts().head(15))\n",
        "top_15.columns=[\"Number of games\"]\n",
        "print(top_15)"
      ]
    },
    {
      "cell_type": "markdown",
      "metadata": {
        "id": "iohxpuCKjU2w"
      },
      "source": [
        "### Date Feature\n",
        "\n",
        "Looking at the information obtained about the matches per year, in our case we decide to remove the data before 2010.\n",
        "\n",
        "We will change the format for the feature Data and eliminate the registers before 2010."
      ]
    },
    {
      "cell_type": "code",
      "execution_count": 16,
      "metadata": {
        "id": "_BKOnYhD6FTj"
      },
      "outputs": [],
      "source": [
        "# Date feature format to datetime (format: YEAR-MONTH-DAY --> %Y-%m-%d)\n",
        "df['date'] = pd.to_datetime(df['date'], format='%Y-%m-%d')"
      ]
    },
    {
      "cell_type": "code",
      "execution_count": 17,
      "metadata": {
        "colab": {
          "base_uri": "https://localhost:8080/"
        },
        "id": "rbOFc5O8vIgW",
        "outputId": "3d4f28a2-f6ce-4658-ec1e-511aafe9b13f"
      },
      "outputs": [
        {
          "name": "stdout",
          "output_type": "stream",
          "text": [
            "<class 'pandas.core.frame.DataFrame'>\n",
            "RangeIndex: 43752 entries, 0 to 43751\n",
            "Data columns (total 10 columns):\n",
            " #   Column      Non-Null Count  Dtype         \n",
            "---  ------      --------------  -----         \n",
            " 0   date        43752 non-null  datetime64[ns]\n",
            " 1   home_team   43752 non-null  object        \n",
            " 2   away_team   43752 non-null  object        \n",
            " 3   home_score  43752 non-null  int64         \n",
            " 4   away_score  43752 non-null  int64         \n",
            " 5   tournament  43752 non-null  object        \n",
            " 6   city        43752 non-null  object        \n",
            " 7   country     43752 non-null  object        \n",
            " 8   neutral     43752 non-null  bool          \n",
            " 9   year        43752 non-null  int64         \n",
            "dtypes: bool(1), datetime64[ns](1), int64(3), object(5)\n",
            "memory usage: 3.0+ MB\n"
          ]
        }
      ],
      "source": [
        "df.info()"
      ]
    },
    {
      "cell_type": "code",
      "execution_count": 18,
      "metadata": {
        "id": "ZaF1kKV069zh"
      },
      "outputs": [],
      "source": [
        "# Elimination of registers before 2012\n",
        "date_lb = pd.Timestamp(2012,1,1)\n",
        "df = df[(df['date'] > date_lb)]"
      ]
    },
    {
      "cell_type": "code",
      "execution_count": 19,
      "metadata": {
        "id": "Rf0_Jt6_bwoT"
      },
      "outputs": [],
      "source": [
        "df = df.drop(['date'], axis=1)"
      ]
    },
    {
      "cell_type": "code",
      "execution_count": 20,
      "metadata": {
        "colab": {
          "base_uri": "https://localhost:8080/",
          "height": 363
        },
        "id": "c3QAo9IB7JHw",
        "outputId": "004c61e8-af7e-434e-cb5f-f0ac842170fa"
      },
      "outputs": [
        {
          "data": {
            "text/html": [
              "<div>\n",
              "<style scoped>\n",
              "    .dataframe tbody tr th:only-of-type {\n",
              "        vertical-align: middle;\n",
              "    }\n",
              "\n",
              "    .dataframe tbody tr th {\n",
              "        vertical-align: top;\n",
              "    }\n",
              "\n",
              "    .dataframe thead th {\n",
              "        text-align: right;\n",
              "    }\n",
              "</style>\n",
              "<table border=\"1\" class=\"dataframe\">\n",
              "  <thead>\n",
              "    <tr style=\"text-align: right;\">\n",
              "      <th></th>\n",
              "      <th>home_team</th>\n",
              "      <th>away_team</th>\n",
              "      <th>home_score</th>\n",
              "      <th>away_score</th>\n",
              "      <th>tournament</th>\n",
              "      <th>city</th>\n",
              "      <th>country</th>\n",
              "      <th>neutral</th>\n",
              "      <th>year</th>\n",
              "    </tr>\n",
              "  </thead>\n",
              "  <tbody>\n",
              "    <tr>\n",
              "      <th>33980</th>\n",
              "      <td>Equatorial Guinea</td>\n",
              "      <td>South Africa</td>\n",
              "      <td>0</td>\n",
              "      <td>0</td>\n",
              "      <td>Friendly</td>\n",
              "      <td>Bata</td>\n",
              "      <td>Equatorial Guinea</td>\n",
              "      <td>False</td>\n",
              "      <td>2012</td>\n",
              "    </tr>\n",
              "    <tr>\n",
              "      <th>33981</th>\n",
              "      <td>Botswana</td>\n",
              "      <td>Zimbabwe</td>\n",
              "      <td>0</td>\n",
              "      <td>0</td>\n",
              "      <td>Friendly</td>\n",
              "      <td>Gaborone</td>\n",
              "      <td>Botswana</td>\n",
              "      <td>False</td>\n",
              "      <td>2012</td>\n",
              "    </tr>\n",
              "    <tr>\n",
              "      <th>33982</th>\n",
              "      <td>Gabon</td>\n",
              "      <td>Burkina Faso</td>\n",
              "      <td>0</td>\n",
              "      <td>0</td>\n",
              "      <td>Friendly</td>\n",
              "      <td>Bitam</td>\n",
              "      <td>Gabon</td>\n",
              "      <td>False</td>\n",
              "      <td>2012</td>\n",
              "    </tr>\n",
              "    <tr>\n",
              "      <th>33983</th>\n",
              "      <td>Tunisia</td>\n",
              "      <td>Sudan</td>\n",
              "      <td>3</td>\n",
              "      <td>0</td>\n",
              "      <td>Friendly</td>\n",
              "      <td>Sharjah</td>\n",
              "      <td>United Arab Emirates</td>\n",
              "      <td>True</td>\n",
              "      <td>2012</td>\n",
              "    </tr>\n",
              "    <tr>\n",
              "      <th>33984</th>\n",
              "      <td>Nigeria</td>\n",
              "      <td>Angola</td>\n",
              "      <td>0</td>\n",
              "      <td>0</td>\n",
              "      <td>Friendly</td>\n",
              "      <td>Abuja</td>\n",
              "      <td>Nigeria</td>\n",
              "      <td>False</td>\n",
              "      <td>2012</td>\n",
              "    </tr>\n",
              "    <tr>\n",
              "      <th>33985</th>\n",
              "      <td>Senegal</td>\n",
              "      <td>Sudan</td>\n",
              "      <td>1</td>\n",
              "      <td>0</td>\n",
              "      <td>Friendly</td>\n",
              "      <td>Dakar</td>\n",
              "      <td>Senegal</td>\n",
              "      <td>False</td>\n",
              "      <td>2012</td>\n",
              "    </tr>\n",
              "    <tr>\n",
              "      <th>33986</th>\n",
              "      <td>Tunisia</td>\n",
              "      <td>Ivory Coast</td>\n",
              "      <td>0</td>\n",
              "      <td>2</td>\n",
              "      <td>Friendly</td>\n",
              "      <td>Abu Dhabi</td>\n",
              "      <td>United Arab Emirates</td>\n",
              "      <td>True</td>\n",
              "      <td>2012</td>\n",
              "    </tr>\n",
              "    <tr>\n",
              "      <th>33987</th>\n",
              "      <td>Angola</td>\n",
              "      <td>Sierra Leone</td>\n",
              "      <td>3</td>\n",
              "      <td>1</td>\n",
              "      <td>Friendly</td>\n",
              "      <td>Cabinda</td>\n",
              "      <td>Angola</td>\n",
              "      <td>False</td>\n",
              "      <td>2012</td>\n",
              "    </tr>\n",
              "    <tr>\n",
              "      <th>33988</th>\n",
              "      <td>Zambia</td>\n",
              "      <td>Namibia</td>\n",
              "      <td>0</td>\n",
              "      <td>0</td>\n",
              "      <td>Friendly</td>\n",
              "      <td>Johannesburg</td>\n",
              "      <td>South Africa</td>\n",
              "      <td>True</td>\n",
              "      <td>2012</td>\n",
              "    </tr>\n",
              "    <tr>\n",
              "      <th>33989</th>\n",
              "      <td>Oman</td>\n",
              "      <td>DR Congo</td>\n",
              "      <td>2</td>\n",
              "      <td>2</td>\n",
              "      <td>Friendly</td>\n",
              "      <td>Muscat</td>\n",
              "      <td>Oman</td>\n",
              "      <td>False</td>\n",
              "      <td>2012</td>\n",
              "    </tr>\n",
              "  </tbody>\n",
              "</table>\n",
              "</div>"
            ],
            "text/plain": [
              "               home_team     away_team  home_score  away_score tournament  \\\n",
              "33980  Equatorial Guinea  South Africa           0           0   Friendly   \n",
              "33981           Botswana      Zimbabwe           0           0   Friendly   \n",
              "33982              Gabon  Burkina Faso           0           0   Friendly   \n",
              "33983            Tunisia         Sudan           3           0   Friendly   \n",
              "33984            Nigeria        Angola           0           0   Friendly   \n",
              "33985            Senegal         Sudan           1           0   Friendly   \n",
              "33986            Tunisia   Ivory Coast           0           2   Friendly   \n",
              "33987             Angola  Sierra Leone           3           1   Friendly   \n",
              "33988             Zambia       Namibia           0           0   Friendly   \n",
              "33989               Oman      DR Congo           2           2   Friendly   \n",
              "\n",
              "               city               country  neutral  year  \n",
              "33980          Bata     Equatorial Guinea    False  2012  \n",
              "33981      Gaborone              Botswana    False  2012  \n",
              "33982         Bitam                 Gabon    False  2012  \n",
              "33983       Sharjah  United Arab Emirates     True  2012  \n",
              "33984         Abuja               Nigeria    False  2012  \n",
              "33985         Dakar               Senegal    False  2012  \n",
              "33986     Abu Dhabi  United Arab Emirates     True  2012  \n",
              "33987       Cabinda                Angola    False  2012  \n",
              "33988  Johannesburg          South Africa     True  2012  \n",
              "33989        Muscat                  Oman    False  2012  "
            ]
          },
          "execution_count": 20,
          "metadata": {},
          "output_type": "execute_result"
        }
      ],
      "source": [
        "df.head(10)"
      ]
    },
    {
      "cell_type": "markdown",
      "metadata": {
        "id": "HiE9DIMQsnmd"
      },
      "source": [
        "### Outliers\n",
        "\n",
        "For outlier analysis, we first visualize the data by plotting it with a boxplot, and if we observe outliers, we use IQR method to set the bounds. "
      ]
    },
    {
      "cell_type": "code",
      "execution_count": 21,
      "metadata": {
        "colab": {
          "base_uri": "https://localhost:8080/",
          "height": 585
        },
        "id": "jm2tyoM2sc_x",
        "outputId": "7273359a-8e25-40a7-a3c2-e3d9802d2023"
      },
      "outputs": [
        {
          "data": {
            "image/png": "[encoded data removed]",
            "text/plain": [
              "<Figure size 864x576 with 2 Axes>"
            ]
          },
          "metadata": {
            "needs_background": "light"
          },
          "output_type": "display_data"
        }
      ],
      "source": [
        "#Box plots for the numerical columns\n",
        "f, ax = plt.subplots(1,2, figsize=(12,8))\n",
        "sns.color_palette(\"deep\")\n",
        "\n",
        "sns.boxplot(y = df['home_score'], ax=ax[0]) \n",
        "sns.boxplot(y = df['away_score'], ax=ax[1])\n",
        "\n",
        "plt.tight_layout()\n",
        "\n",
        "plt.draw()"
      ]
    },
    {
      "cell_type": "markdown",
      "metadata": {
        "id": "AkvNT8LrzeVj"
      },
      "source": [
        "#### Evaluation of outliers implementing IQR method"
      ]
    },
    {
      "cell_type": "code",
      "execution_count": 22,
      "metadata": {
        "colab": {
          "base_uri": "https://localhost:8080/"
        },
        "id": "OYatI2BXw-fg",
        "outputId": "ca283abe-2df6-43f1-ef15-98d252d06877"
      },
      "outputs": [
        {
          "name": "stdout",
          "output_type": "stream",
          "text": [
            "count    9772.000000\n",
            "mean        1.591691\n",
            "std         1.630385\n",
            "min         0.000000\n",
            "25%         0.000000\n",
            "50%         1.000000\n",
            "75%         2.000000\n",
            "max        16.000000\n",
            "Name: home_score, dtype: float64\n",
            "In the home_score case the upper & lower for bounds for suspected outliers are 5.0 and -3.0. Total of row off upper bound \n",
            "home_team     277\n",
            "away_team     277\n",
            "home_score    277\n",
            "away_score    277\n",
            "tournament    277\n",
            "city          277\n",
            "country       277\n",
            "neutral       277\n",
            "year          277\n",
            "dtype: int64 \n",
            "\n",
            "\n",
            "\n",
            "count    9772.000000\n",
            "mean        1.095886\n",
            "std         1.356485\n",
            "min         0.000000\n",
            "25%         0.000000\n",
            "50%         1.000000\n",
            "75%         2.000000\n",
            "max        20.000000\n",
            "Name: away_score, dtype: float64\n",
            "In the away_score case the upper & lower for bounds for suspected outliers are 5.0 and -3.0. Total of row off upper bound \n",
            "home_team     118\n",
            "away_team     118\n",
            "home_score    118\n",
            "away_score    118\n",
            "tournament    118\n",
            "city          118\n",
            "country       118\n",
            "neutral       118\n",
            "year          118\n",
            "dtype: int64 \n",
            "\n"
          ]
        }
      ],
      "source": [
        "# Using the IQR method function\n",
        "def iqr_calc(col_name):\n",
        "  stat = df[f'{col_name}'].describe()\n",
        "  print(stat)\n",
        "  IQR = stat['75%']-stat['25%']\n",
        "  upper = stat['75%'] + 1.5*IQR\n",
        "  lower = stat['25%'] - 1.5*IQR\n",
        "  rows_out= df[df[f'{col_name}'] > upper].count()\n",
        "  return f'In the {col_name} case the upper & lower for bounds for suspected outliers are {upper} and {lower}. Total of row off upper bound \\n{rows_out} \\n'\n",
        "\n",
        "print(iqr_calc('home_score'))\n",
        "print(\"\\n\")\n",
        "print(iqr_calc('away_score'))"
      ]
    },
    {
      "cell_type": "markdown",
      "metadata": {
        "id": "DkqH4y0QzwuB"
      },
      "source": [
        "#### Deletion of outliers\n",
        "\n",
        "With the information about the bounds, we remove the registers with away_score and home_score greater than the upper bound."
      ]
    },
    {
      "cell_type": "code",
      "execution_count": 23,
      "metadata": {
        "id": "0tL_o8Zwzi59"
      },
      "outputs": [],
      "source": [
        "# Remove the outliers for home_score\n",
        "df=df.drop(df[df['home_score'] > 5].index)\n",
        "\n",
        "# Remove the outliers for away_score\n",
        "df=df.drop(df[df['away_score'] > 5].index)"
      ]
    },
    {
      "cell_type": "code",
      "execution_count": 24,
      "metadata": {
        "colab": {
          "base_uri": "https://localhost:8080/"
        },
        "id": "U236NgFf0Rj7",
        "outputId": "b567aa80-b23b-4b75-abd4-707d8806d33b"
      },
      "outputs": [
        {
          "name": "stdout",
          "output_type": "stream",
          "text": [
            "<class 'pandas.core.frame.DataFrame'>\n",
            "Int64Index: 9377 entries, 33980 to 43751\n",
            "Data columns (total 9 columns):\n",
            " #   Column      Non-Null Count  Dtype \n",
            "---  ------      --------------  ----- \n",
            " 0   home_team   9377 non-null   object\n",
            " 1   away_team   9377 non-null   object\n",
            " 2   home_score  9377 non-null   int64 \n",
            " 3   away_score  9377 non-null   int64 \n",
            " 4   tournament  9377 non-null   object\n",
            " 5   city        9377 non-null   object\n",
            " 6   country     9377 non-null   object\n",
            " 7   neutral     9377 non-null   bool  \n",
            " 8   year        9377 non-null   int64 \n",
            "dtypes: bool(1), int64(3), object(5)\n",
            "memory usage: 668.5+ KB\n"
          ]
        }
      ],
      "source": [
        "df.info()"
      ]
    },
    {
      "cell_type": "markdown",
      "metadata": {
        "id": "WGjc6DuU2dLQ"
      },
      "source": [
        "### Frequency of the features\n",
        "\n",
        "Top 20 highest values per feature."
      ]
    },
    {
      "cell_type": "code",
      "execution_count": 25,
      "metadata": {
        "colab": {
          "base_uri": "https://localhost:8080/",
          "height": 1000
        },
        "id": "ZDWz7esCyZpq",
        "outputId": "70d8232c-ab0d-4f9d-e575-37f79b9a227d"
      },
      "outputs": [
        {
          "data": {
            "image/png": "[encoded data removed]",
            "text/plain": [
              "<Figure size 1080x576 with 1 Axes>"
            ]
          },
          "metadata": {},
          "output_type": "display_data"
        },
        {
          "data": {
            "image/png": "[encoded data removed]",
            "text/plain": [
              "<Figure size 1080x576 with 1 Axes>"
            ]
          },
          "metadata": {},
          "output_type": "display_data"
        },
        {
          "data": {
            "image/png": "[encoded data removed]",
            "text/plain": [
              "<Figure size 1080x576 with 1 Axes>"
            ]
          },
          "metadata": {},
          "output_type": "display_data"
        },
        {
          "data": {
            "image/png": "[encoded data removed]",
            "text/plain": [
              "<Figure size 1080x576 with 1 Axes>"
            ]
          },
          "metadata": {},
          "output_type": "display_data"
        }
      ],
      "source": [
        "sns.set(rc = {'figure.figsize':(15,8)})\n",
        "variables = ['home_team', 'away_team', 'tournament', 'country'  ]\n",
        "for v in variables:\n",
        "  data = df.sort_values(by=[v])\n",
        "  sns.countplot(x=data[v], data=data, \n",
        "                order=df[v].value_counts().iloc[:20].index)\n",
        "  plt.xticks(rotation=45)\n",
        "  plt.show()"
      ]
    },
    {
      "cell_type": "markdown",
      "metadata": {
        "id": "Cv07WULorUKn"
      },
      "source": [
        "### Countries participation and importance"
      ]
    },
    {
      "cell_type": "code",
      "execution_count": 26,
      "metadata": {
        "colab": {
          "base_uri": "https://localhost:8080/"
        },
        "id": "baiYLTmsko2j",
        "outputId": "ef170676-0d83-4a91-9f61-7051d05361d4"
      },
      "outputs": [
        {
          "name": "stdout",
          "output_type": "stream",
          "text": [
            "Unique values in:  home_team\n",
            "['Equatorial Guinea' 'Botswana' 'Gabon' 'Tunisia' 'Nigeria' 'Senegal'\n",
            " 'Angola' 'Zambia' 'Oman' 'São Tomé and Príncipe' 'Ivory Coast' 'Kuwait'\n",
            " 'Bahrain' 'Thailand' 'United States' 'Burkina Faso' 'Lebanon' 'Lesotho'\n",
            " 'Trinidad and Tobago' 'Morocco' 'Ghana' 'Mali' 'Libya' 'Mexico' 'Panama'\n",
            " 'Sudan' 'Niger' 'Romania' 'United Arab Emirates' 'Liberia' 'Paraguay'\n",
            " 'North Korea' 'China PR' 'Grenada' 'Jamaica' 'Iran' 'Tanzania' 'Japan'\n",
            " 'Nicaragua' 'Singapore' 'South Korea' 'Egypt' 'India' 'Armenia'\n",
            " 'Bosnia and Herzegovina' 'Antigua and Barbuda' 'Australia' 'Austria'\n",
            " 'Bolivia' 'Burundi' 'Chad' 'Chile' 'Congo' 'Croatia' 'Cyprus' 'Denmark'\n",
            " 'Ecuador' 'El Salvador' 'England' 'Ethiopia' 'Gambia' 'Georgia' 'Germany'\n",
            " 'Greece' 'Guinea-Bissau' 'Guyana' 'Hong Kong' 'Hungary'\n",
            " 'Republic of Ireland' 'Israel' 'Italy' 'Kenya' 'Latvia' 'Luxembourg'\n",
            " 'Madagascar' 'Malta' 'Moldova' 'Montenegro' 'New Zealand'\n",
            " 'Northern Ireland' 'Palestine' 'Philippines' 'Poland' 'Rwanda'\n",
            " 'Seychelles' 'Slovenia' 'South Africa' 'Spain' 'Switzerland' 'Tajikistan'\n",
            " 'Turkey' 'Wales' 'Martinique' 'Saint Kitts and Nevis' 'Nepal'\n",
            " 'Turkmenistan' 'Maldives' 'French Guiana' 'Guadeloupe' 'Costa Rica'\n",
            " 'Peru' 'Guatemala' 'Albania' 'Iraq' 'Venezuela' 'Belgium' 'Russia'\n",
            " 'Algeria' 'Czech Republic' 'Finland' 'Guinea' 'Honduras' 'Jordan'\n",
            " 'Mozambique' 'Netherlands' 'Norway' 'Portugal' 'France' 'Qatar' 'Ukraine'\n",
            " 'Bulgaria' 'Lithuania' 'Azerbaijan' 'Sweden' 'Estonia' 'Kazakhstan'\n",
            " 'Malaysia' 'Puerto Rico' 'Vanuatu' 'Argentina' 'Cameroon'\n",
            " 'Central African Republic' 'Fiji' 'Sierra Leone' 'Solomon Islands'\n",
            " 'Uruguay' 'Benin' 'Canada' 'Tahiti' 'Togo' 'Uzbekistan' 'Zimbabwe'\n",
            " 'Papua New Guinea' 'Raetia' 'Iraqi Kurdistan' 'Tamil Eelam' 'Provence'\n",
            " 'Belarus' 'Western Sahara' 'Cuba' 'Zanzibar' 'Brazil' 'Cape Verde'\n",
            " 'Malawi' 'Namibia' 'Uganda' 'Occitania' 'DR Congo' 'Saudi Arabia' 'Yemen'\n",
            " 'British Virgin Islands' 'South Sudan' 'Aruba' 'Guam'\n",
            " 'Northern Mariana Islands' 'Liechtenstein' 'San Marino' 'Iceland'\n",
            " 'North Macedonia' 'Scotland' 'Serbia' 'Syria' 'Cambodia' 'Andorra'\n",
            " 'Bermuda' 'Colombia' 'New Caledonia' 'Haiti' 'Indonesia' 'Laos' 'Myanmar'\n",
            " 'Slovakia' 'Réunion' 'Barbados' 'Dominica' 'Abkhazia'\n",
            " 'Dominican Republic' 'Macau' 'Timor-Leste' 'Brunei' 'Faroe Islands'\n",
            " 'Vietnam' 'Saint Lucia' 'Artsakh' 'Curaçao'\n",
            " 'Saint Vincent and the Grenadines' 'Eswatini' 'Somalia' 'Eritrea'\n",
            " 'Mauritius' 'Comoros' 'Mauritania' 'Catalonia' 'Belize' 'Afghanistan'\n",
            " 'Mongolia' 'Bangladesh' 'Sri Lanka' 'Kyrgyzstan' 'Pakistan' 'Brittany'\n",
            " 'Madrid' 'Monaco' 'Frøya' 'Bonaire' 'Gibraltar' 'Kosovo' 'Vatican City'\n",
            " 'Suriname' 'Montserrat' 'United States Virgin Islands' 'Ellan Vannin'\n",
            " 'Sápmi' 'South Ossetia' 'Padania' 'Arameans Suryoye' 'County of Nice'\n",
            " 'Basque Country' 'Bhutan' 'Anguilla' 'Corsica' 'Székely Land'\n",
            " 'Romani people' 'Felvidék' 'Djibouti' 'Greenland' 'Saare County'\n",
            " 'Ynys Môn' 'Falkland Islands' 'Shetland' 'Jersey' 'Åland Islands'\n",
            " 'Menorca' 'Guernsey' 'Isle of Wight' 'Hitra' 'Gotland' 'Alderney' 'Samoa'\n",
            " 'Tonga' 'Cook Islands' 'American Samoa' 'Sint Maarten' 'Galicia'\n",
            " 'United Koreans in Japan' 'Somaliland' 'Western Armenia' 'Chagos Islands'\n",
            " 'Barawa' 'Taiwan' 'Northern Cyprus' 'Kárpátalja' 'Western Isles'\n",
            " 'Isle of Man' 'Orkney' 'Tuvalu' 'Yorkshire' 'Panjab' 'Matabeleland'\n",
            " 'Cascadia' 'Tibet' 'Kabylia' 'Saint Martin' 'Parishes of Jersey'\n",
            " 'Cayman Islands' 'Turks and Caicos Islands' 'Bahamas' 'Kernow' 'Chameria']\n",
            "279\n",
            "Unique values in:  away_team\n",
            "['South Africa' 'Zimbabwe' 'Burkina Faso' 'Sudan' 'Angola' 'Ivory Coast'\n",
            " 'Sierra Leone' 'Namibia' 'DR Congo' 'Lesotho' 'Libya' 'Uzbekistan'\n",
            " 'Sweden' 'Norway' 'Zambia' 'Venezuela' 'Iraq' 'São Tomé and Príncipe'\n",
            " 'Finland' 'Niger' 'Tunisia' 'Botswana' 'Guinea' 'Senegal' 'United States'\n",
            " 'Morocco' 'Turkmenistan' 'Mali' 'Ghana' 'Nigeria' 'Chile' 'Kuwait'\n",
            " 'Guyana' 'Cuba' 'Guatemala' 'Jordan' 'India' 'Iceland' 'Puerto Rico'\n",
            " 'Azerbaijan' 'Maldives' 'Palestine' 'Kenya' 'Serbia' 'Brazil'\n",
            " 'Trinidad and Tobago' 'Canada' 'Saudi Arabia' 'Malawi' 'Uganda' 'Russia'\n",
            " 'Honduras' 'Estonia' 'Netherlands' 'Benin' 'Algeria' 'Albania' 'France'\n",
            " 'Belgium' 'Cameroon' 'Taiwan' 'Bulgaria' 'Qatar' 'Czech Republic'\n",
            " 'Ukraine' 'Togo' 'Kazakhstan' 'North Macedonia' 'Cape Verde'\n",
            " 'Liechtenstein' 'Colombia' 'Belarus' 'Jamaica' 'Thailand' 'Panama'\n",
            " 'Malaysia' 'Portugal' 'Uruguay' 'Scotland' 'Argentina' 'North Korea'\n",
            " 'Mozambique' 'Peru' 'Slovakia' 'Lebanon' 'Costa Rica' 'Guadeloupe'\n",
            " 'Antigua and Barbuda' 'Tajikistan' 'Philippines' 'Chad' 'Martinique'\n",
            " 'Mauritania' 'Paraguay' 'Egypt' 'Poland' 'New Zealand' 'Rwanda' 'Moldova'\n",
            " 'Turkey' 'Montenegro' 'Israel' 'Slovenia' 'Bosnia and Herzegovina'\n",
            " 'England' 'Germany' 'Iran' 'Wales' 'Andorra' 'South Korea' 'Romania'\n",
            " 'Greece' 'Hungary' 'Singapore' 'Kyrgyzstan' 'Lithuania' 'Nicaragua'\n",
            " 'New Caledonia' 'Ecuador' 'Congo' 'Australia' 'Tanzania' 'Malta'\n",
            " 'Croatia' 'Liberia' 'Papua New Guinea' 'Equatorial Guinea' 'Latvia'\n",
            " 'Oman' 'Gabon' 'Ethiopia' 'China PR' 'Samoa' 'Republic of Ireland' 'Fiji'\n",
            " 'Indonesia' 'Vanuatu' 'Tamil Eelam' 'Occitania' 'Zanzibar'\n",
            " 'Northern Cyprus' 'Darfur' 'Vietnam' 'El Salvador' 'Tahiti' 'Raetia'\n",
            " 'Provence' 'Suriname' 'Denmark' 'Western Sahara'\n",
            " 'Central African Republic' 'Italy' 'Gambia' 'Japan' 'Mexico' 'Guam'\n",
            " 'Guinea-Bissau' 'Madagascar' 'Seychelles' 'Burundi' 'Spain' 'Yemen'\n",
            " 'Bahrain' 'Anguilla' 'Curaçao' 'Northern Mariana Islands' 'Macau'\n",
            " 'Cyprus' 'Switzerland' 'Faroe Islands' 'Georgia' 'Hong Kong' 'Syria'\n",
            " 'Nepal' 'United Arab Emirates' 'Bolivia' 'Armenia' 'Montserrat'\n",
            " 'Northern Ireland' 'Bermuda' 'Luxembourg' 'Laos' 'Haiti' 'Bangladesh'\n",
            " 'French Guiana' 'Mayotte' 'Dominican Republic' 'Dominica' 'Aruba'\n",
            " 'Artsakh' 'Brunei' 'Timor-Leste' 'Cambodia' 'San Marino' 'Austria'\n",
            " 'Eswatini' 'Solomon Islands' 'Abkhazia' 'Bhutan' 'Pakistan' 'South Sudan'\n",
            " 'Myanmar' 'Somalia' 'Eritrea' 'Comoros' 'Mauritius' 'Belize' 'Sri Lanka'\n",
            " 'Mongolia' 'Afghanistan' 'Saint Lucia' 'Andalusia' 'Vatican City'\n",
            " 'Greenland' 'Falkland Islands' 'Bonaire' 'Grenada' 'Monaco' 'Gibraltar'\n",
            " 'Turks and Caicos Islands' 'United States Virgin Islands'\n",
            " 'Arameans Suryoye' 'County of Nice' 'Padania' 'South Ossetia'\n",
            " 'Iraqi Kurdistan' 'Ellan Vannin' 'Saint Martin' 'Barbados'\n",
            " 'Saint Kitts and Nevis' 'Catalonia' 'British Virgin Islands' 'Bahamas'\n",
            " 'Saint Vincent and the Grenadines' 'Romani people' 'Felvidék' 'Menorca'\n",
            " 'Åland Islands' 'Gotland' 'Guernsey' 'Hitra' 'Isle of Wight'\n",
            " 'Western Isles' 'Saare County' 'Ynys Môn' 'Shetland' 'Isle of Man'\n",
            " 'Alderney' 'Tonga' 'American Samoa' 'Cook Islands' 'Djibouti'\n",
            " 'Basque Country' 'Székely Land' 'Somaliland' 'Panjab' 'Western Armenia'\n",
            " 'Sápmi' 'Kosovo' 'Chagos Islands' 'Kárpátalja' 'Orkney' 'Jersey' 'Frøya'\n",
            " 'Surrey' 'Cascadia' 'Tibet' 'Tuvalu' 'Matabeleland' 'Kabylia'\n",
            " 'United Koreans in Japan' 'Cayman Islands' 'Yorkshire' 'Barawa'\n",
            " 'Parishes of Jersey' 'Chameria' 'Saint Helena' 'Sint Maarten']\n",
            "278\n"
          ]
        }
      ],
      "source": [
        "#Unique values in categorical columns\n",
        "columns = ['home_team','away_team']\n",
        "for col  in columns:\n",
        "    print(\"Unique values in: \", col)\n",
        "    print(df[col].unique())\n",
        "    print(df[col].nunique())"
      ]
    },
    {
      "cell_type": "code",
      "execution_count": 27,
      "metadata": {
        "colab": {
          "base_uri": "https://localhost:8080/",
          "height": 1000
        },
        "id": "KZVRh1SBwU-d",
        "outputId": "9322ec0d-c2ab-453b-ef81-8441f06e7106"
      },
      "outputs": [
        {
          "data": {
            "text/html": [
              "<div>\n",
              "<style scoped>\n",
              "    .dataframe tbody tr th:only-of-type {\n",
              "        vertical-align: middle;\n",
              "    }\n",
              "\n",
              "    .dataframe tbody tr th {\n",
              "        vertical-align: top;\n",
              "    }\n",
              "\n",
              "    .dataframe thead th {\n",
              "        text-align: right;\n",
              "    }\n",
              "</style>\n",
              "<table border=\"1\" class=\"dataframe\">\n",
              "  <thead>\n",
              "    <tr style=\"text-align: right;\">\n",
              "      <th></th>\n",
              "      <th>Games played as home team</th>\n",
              "    </tr>\n",
              "  </thead>\n",
              "  <tbody>\n",
              "    <tr>\n",
              "      <th>Mexico</th>\n",
              "      <td>99</td>\n",
              "    </tr>\n",
              "    <tr>\n",
              "      <th>United States</th>\n",
              "      <td>98</td>\n",
              "    </tr>\n",
              "    <tr>\n",
              "      <th>Qatar</th>\n",
              "      <td>97</td>\n",
              "    </tr>\n",
              "    <tr>\n",
              "      <th>Japan</th>\n",
              "      <td>92</td>\n",
              "    </tr>\n",
              "    <tr>\n",
              "      <th>South Korea</th>\n",
              "      <td>84</td>\n",
              "    </tr>\n",
              "    <tr>\n",
              "      <th>South Africa</th>\n",
              "      <td>84</td>\n",
              "    </tr>\n",
              "    <tr>\n",
              "      <th>Bahrain</th>\n",
              "      <td>82</td>\n",
              "    </tr>\n",
              "    <tr>\n",
              "      <th>Morocco</th>\n",
              "      <td>82</td>\n",
              "    </tr>\n",
              "    <tr>\n",
              "      <th>France</th>\n",
              "      <td>81</td>\n",
              "    </tr>\n",
              "    <tr>\n",
              "      <th>Brazil</th>\n",
              "      <td>78</td>\n",
              "    </tr>\n",
              "    <tr>\n",
              "      <th>Oman</th>\n",
              "      <td>76</td>\n",
              "    </tr>\n",
              "    <tr>\n",
              "      <th>Italy</th>\n",
              "      <td>76</td>\n",
              "    </tr>\n",
              "    <tr>\n",
              "      <th>Zambia</th>\n",
              "      <td>75</td>\n",
              "    </tr>\n",
              "    <tr>\n",
              "      <th>United Arab Emirates</th>\n",
              "      <td>75</td>\n",
              "    </tr>\n",
              "    <tr>\n",
              "      <th>England</th>\n",
              "      <td>73</td>\n",
              "    </tr>\n",
              "    <tr>\n",
              "      <th>Germany</th>\n",
              "      <td>72</td>\n",
              "    </tr>\n",
              "    <tr>\n",
              "      <th>Iraq</th>\n",
              "      <td>72</td>\n",
              "    </tr>\n",
              "    <tr>\n",
              "      <th>Jordan</th>\n",
              "      <td>72</td>\n",
              "    </tr>\n",
              "    <tr>\n",
              "      <th>Poland</th>\n",
              "      <td>71</td>\n",
              "    </tr>\n",
              "    <tr>\n",
              "      <th>Sweden</th>\n",
              "      <td>70</td>\n",
              "    </tr>\n",
              "    <tr>\n",
              "      <th>Egypt</th>\n",
              "      <td>70</td>\n",
              "    </tr>\n",
              "    <tr>\n",
              "      <th>Portugal</th>\n",
              "      <td>70</td>\n",
              "    </tr>\n",
              "    <tr>\n",
              "      <th>Argentina</th>\n",
              "      <td>69</td>\n",
              "    </tr>\n",
              "    <tr>\n",
              "      <th>Russia</th>\n",
              "      <td>69</td>\n",
              "    </tr>\n",
              "    <tr>\n",
              "      <th>Ivory Coast</th>\n",
              "      <td>68</td>\n",
              "    </tr>\n",
              "    <tr>\n",
              "      <th>Thailand</th>\n",
              "      <td>68</td>\n",
              "    </tr>\n",
              "    <tr>\n",
              "      <th>Nigeria</th>\n",
              "      <td>66</td>\n",
              "    </tr>\n",
              "    <tr>\n",
              "      <th>China PR</th>\n",
              "      <td>66</td>\n",
              "    </tr>\n",
              "    <tr>\n",
              "      <th>Saudi Arabia</th>\n",
              "      <td>65</td>\n",
              "    </tr>\n",
              "    <tr>\n",
              "      <th>Cameroon</th>\n",
              "      <td>64</td>\n",
              "    </tr>\n",
              "    <tr>\n",
              "      <th>Belgium</th>\n",
              "      <td>64</td>\n",
              "    </tr>\n",
              "    <tr>\n",
              "      <th>Costa Rica</th>\n",
              "      <td>64</td>\n",
              "    </tr>\n",
              "    <tr>\n",
              "      <th>Tunisia</th>\n",
              "      <td>64</td>\n",
              "    </tr>\n",
              "    <tr>\n",
              "      <th>Turkey</th>\n",
              "      <td>63</td>\n",
              "    </tr>\n",
              "    <tr>\n",
              "      <th>Spain</th>\n",
              "      <td>63</td>\n",
              "    </tr>\n",
              "    <tr>\n",
              "      <th>Honduras</th>\n",
              "      <td>63</td>\n",
              "    </tr>\n",
              "    <tr>\n",
              "      <th>Uganda</th>\n",
              "      <td>63</td>\n",
              "    </tr>\n",
              "    <tr>\n",
              "      <th>Netherlands</th>\n",
              "      <td>62</td>\n",
              "    </tr>\n",
              "    <tr>\n",
              "      <th>Hungary</th>\n",
              "      <td>62</td>\n",
              "    </tr>\n",
              "    <tr>\n",
              "      <th>El Salvador</th>\n",
              "      <td>62</td>\n",
              "    </tr>\n",
              "  </tbody>\n",
              "</table>\n",
              "</div>"
            ],
            "text/plain": [
              "                      Games played as home team\n",
              "Mexico                                       99\n",
              "United States                                98\n",
              "Qatar                                        97\n",
              "Japan                                        92\n",
              "South Korea                                  84\n",
              "South Africa                                 84\n",
              "Bahrain                                      82\n",
              "Morocco                                      82\n",
              "France                                       81\n",
              "Brazil                                       78\n",
              "Oman                                         76\n",
              "Italy                                        76\n",
              "Zambia                                       75\n",
              "United Arab Emirates                         75\n",
              "England                                      73\n",
              "Germany                                      72\n",
              "Iraq                                         72\n",
              "Jordan                                       72\n",
              "Poland                                       71\n",
              "Sweden                                       70\n",
              "Egypt                                        70\n",
              "Portugal                                     70\n",
              "Argentina                                    69\n",
              "Russia                                       69\n",
              "Ivory Coast                                  68\n",
              "Thailand                                     68\n",
              "Nigeria                                      66\n",
              "China PR                                     66\n",
              "Saudi Arabia                                 65\n",
              "Cameroon                                     64\n",
              "Belgium                                      64\n",
              "Costa Rica                                   64\n",
              "Tunisia                                      64\n",
              "Turkey                                       63\n",
              "Spain                                        63\n",
              "Honduras                                     63\n",
              "Uganda                                       63\n",
              "Netherlands                                  62\n",
              "Hungary                                      62\n",
              "El Salvador                                  62"
            ]
          },
          "execution_count": 27,
          "metadata": {},
          "output_type": "execute_result"
        }
      ],
      "source": [
        "home_top_40=pd.DataFrame(df[\"home_team\"].value_counts().head(40))\n",
        "home_top_40.columns=[\"Games played as home team\"]\n",
        "home_top_40"
      ]
    },
    {
      "cell_type": "code",
      "execution_count": 28,
      "metadata": {
        "colab": {
          "base_uri": "https://localhost:8080/",
          "height": 1000
        },
        "id": "xdBRx9fl3D2n",
        "outputId": "c868fe53-e024-410b-b2fb-56b9f3d0e226"
      },
      "outputs": [
        {
          "data": {
            "text/html": [
              "<div>\n",
              "<style scoped>\n",
              "    .dataframe tbody tr th:only-of-type {\n",
              "        vertical-align: middle;\n",
              "    }\n",
              "\n",
              "    .dataframe tbody tr th {\n",
              "        vertical-align: top;\n",
              "    }\n",
              "\n",
              "    .dataframe thead th {\n",
              "        text-align: right;\n",
              "    }\n",
              "</style>\n",
              "<table border=\"1\" class=\"dataframe\">\n",
              "  <thead>\n",
              "    <tr style=\"text-align: right;\">\n",
              "      <th></th>\n",
              "      <th>Games played as away team</th>\n",
              "    </tr>\n",
              "  </thead>\n",
              "  <tbody>\n",
              "    <tr>\n",
              "      <th>Zambia</th>\n",
              "      <td>82</td>\n",
              "    </tr>\n",
              "    <tr>\n",
              "      <th>Costa Rica</th>\n",
              "      <td>81</td>\n",
              "    </tr>\n",
              "    <tr>\n",
              "      <th>Uganda</th>\n",
              "      <td>80</td>\n",
              "    </tr>\n",
              "    <tr>\n",
              "      <th>Panama</th>\n",
              "      <td>75</td>\n",
              "    </tr>\n",
              "    <tr>\n",
              "      <th>Nigeria</th>\n",
              "      <td>75</td>\n",
              "    </tr>\n",
              "    <tr>\n",
              "      <th>Iceland</th>\n",
              "      <td>75</td>\n",
              "    </tr>\n",
              "    <tr>\n",
              "      <th>Burkina Faso</th>\n",
              "      <td>74</td>\n",
              "    </tr>\n",
              "    <tr>\n",
              "      <th>Mexico</th>\n",
              "      <td>72</td>\n",
              "    </tr>\n",
              "    <tr>\n",
              "      <th>Tunisia</th>\n",
              "      <td>71</td>\n",
              "    </tr>\n",
              "    <tr>\n",
              "      <th>Chile</th>\n",
              "      <td>71</td>\n",
              "    </tr>\n",
              "    <tr>\n",
              "      <th>Ivory Coast</th>\n",
              "      <td>70</td>\n",
              "    </tr>\n",
              "    <tr>\n",
              "      <th>Cameroon</th>\n",
              "      <td>69</td>\n",
              "    </tr>\n",
              "    <tr>\n",
              "      <th>Uruguay</th>\n",
              "      <td>69</td>\n",
              "    </tr>\n",
              "    <tr>\n",
              "      <th>Jordan</th>\n",
              "      <td>69</td>\n",
              "    </tr>\n",
              "    <tr>\n",
              "      <th>Ghana</th>\n",
              "      <td>68</td>\n",
              "    </tr>\n",
              "    <tr>\n",
              "      <th>Iraq</th>\n",
              "      <td>67</td>\n",
              "    </tr>\n",
              "    <tr>\n",
              "      <th>Syria</th>\n",
              "      <td>67</td>\n",
              "    </tr>\n",
              "    <tr>\n",
              "      <th>Peru</th>\n",
              "      <td>67</td>\n",
              "    </tr>\n",
              "    <tr>\n",
              "      <th>Sweden</th>\n",
              "      <td>65</td>\n",
              "    </tr>\n",
              "    <tr>\n",
              "      <th>Mali</th>\n",
              "      <td>65</td>\n",
              "    </tr>\n",
              "    <tr>\n",
              "      <th>Estonia</th>\n",
              "      <td>65</td>\n",
              "    </tr>\n",
              "    <tr>\n",
              "      <th>Spain</th>\n",
              "      <td>64</td>\n",
              "    </tr>\n",
              "    <tr>\n",
              "      <th>Zimbabwe</th>\n",
              "      <td>64</td>\n",
              "    </tr>\n",
              "    <tr>\n",
              "      <th>Guinea</th>\n",
              "      <td>64</td>\n",
              "    </tr>\n",
              "    <tr>\n",
              "      <th>DR Congo</th>\n",
              "      <td>64</td>\n",
              "    </tr>\n",
              "    <tr>\n",
              "      <th>Malawi</th>\n",
              "      <td>63</td>\n",
              "    </tr>\n",
              "    <tr>\n",
              "      <th>Finland</th>\n",
              "      <td>63</td>\n",
              "    </tr>\n",
              "    <tr>\n",
              "      <th>Paraguay</th>\n",
              "      <td>63</td>\n",
              "    </tr>\n",
              "    <tr>\n",
              "      <th>Oman</th>\n",
              "      <td>62</td>\n",
              "    </tr>\n",
              "    <tr>\n",
              "      <th>Honduras</th>\n",
              "      <td>62</td>\n",
              "    </tr>\n",
              "    <tr>\n",
              "      <th>Venezuela</th>\n",
              "      <td>62</td>\n",
              "    </tr>\n",
              "    <tr>\n",
              "      <th>Colombia</th>\n",
              "      <td>61</td>\n",
              "    </tr>\n",
              "    <tr>\n",
              "      <th>Lithuania</th>\n",
              "      <td>61</td>\n",
              "    </tr>\n",
              "    <tr>\n",
              "      <th>Palestine</th>\n",
              "      <td>61</td>\n",
              "    </tr>\n",
              "    <tr>\n",
              "      <th>Serbia</th>\n",
              "      <td>61</td>\n",
              "    </tr>\n",
              "    <tr>\n",
              "      <th>Jamaica</th>\n",
              "      <td>61</td>\n",
              "    </tr>\n",
              "    <tr>\n",
              "      <th>Portugal</th>\n",
              "      <td>60</td>\n",
              "    </tr>\n",
              "    <tr>\n",
              "      <th>Croatia</th>\n",
              "      <td>60</td>\n",
              "    </tr>\n",
              "    <tr>\n",
              "      <th>Saudi Arabia</th>\n",
              "      <td>60</td>\n",
              "    </tr>\n",
              "    <tr>\n",
              "      <th>Sudan</th>\n",
              "      <td>59</td>\n",
              "    </tr>\n",
              "  </tbody>\n",
              "</table>\n",
              "</div>"
            ],
            "text/plain": [
              "              Games played as away team\n",
              "Zambia                               82\n",
              "Costa Rica                           81\n",
              "Uganda                               80\n",
              "Panama                               75\n",
              "Nigeria                              75\n",
              "Iceland                              75\n",
              "Burkina Faso                         74\n",
              "Mexico                               72\n",
              "Tunisia                              71\n",
              "Chile                                71\n",
              "Ivory Coast                          70\n",
              "Cameroon                             69\n",
              "Uruguay                              69\n",
              "Jordan                               69\n",
              "Ghana                                68\n",
              "Iraq                                 67\n",
              "Syria                                67\n",
              "Peru                                 67\n",
              "Sweden                               65\n",
              "Mali                                 65\n",
              "Estonia                              65\n",
              "Spain                                64\n",
              "Zimbabwe                             64\n",
              "Guinea                               64\n",
              "DR Congo                             64\n",
              "Malawi                               63\n",
              "Finland                              63\n",
              "Paraguay                             63\n",
              "Oman                                 62\n",
              "Honduras                             62\n",
              "Venezuela                            62\n",
              "Colombia                             61\n",
              "Lithuania                            61\n",
              "Palestine                            61\n",
              "Serbia                               61\n",
              "Jamaica                              61\n",
              "Portugal                             60\n",
              "Croatia                              60\n",
              "Saudi Arabia                         60\n",
              "Sudan                                59"
            ]
          },
          "execution_count": 28,
          "metadata": {},
          "output_type": "execute_result"
        }
      ],
      "source": [
        "away_top_40=pd.DataFrame(df[\"away_team\"].value_counts().head(40))\n",
        "away_top_40.columns=[\"Games played as away team\"]\n",
        "away_top_40"
      ]
    },
    {
      "cell_type": "markdown",
      "metadata": {
        "id": "MyN6PAHI3fYA"
      },
      "source": [
        "* We observe that the teams who played the most matches are almost the same, with this information we decide to keep only the data of the qualified teams for the FIFA Wold Cup 2022."
      ]
    },
    {
      "cell_type": "markdown",
      "metadata": {
        "id": "s7CA8ssXshkc"
      },
      "source": [
        "#### Teams and groups for the FIFA World Cup 2022\n",
        "\n",
        "Cleaning and Encoding."
      ]
    },
    {
      "cell_type": "code",
      "execution_count": 29,
      "metadata": {
        "id": "ruVyMGyDlxzQ"
      },
      "outputs": [],
      "source": [
        "# We define the groups and teams for Qatar 2022\n",
        "group_A = ['Qatar', 'Ecuador', 'Senegal', 'Netherlands']\n",
        "group_B = ['England', 'Iran', 'United States', 'Wales']\n",
        "group_C = ['Argentina', 'Saudi Arabia', 'Mexico', 'Poland']\n",
        "group_D = ['France', 'Denmark', 'Tunisia', 'Australia']\n",
        "group_E = ['Spain', 'Germany', 'Japan', 'Costa Rica']\n",
        "group_F = ['Belgium', 'Canada', 'Morocco', 'Croatia' ]\n",
        "group_G = ['Brazil', 'Serbia', 'Switzerland', 'Cameroon']\n",
        "group_H = ['Portugal', 'Ghana', 'Uruguay', 'South Korea']\n",
        "all_teams=group_A +group_B +group_C +group_D +group_E +group_F +group_G +group_H"
      ]
    },
    {
      "cell_type": "markdown",
      "metadata": {
        "id": "sxn-aP9OzhXM"
      },
      "source": [
        "##### Cleaning"
      ]
    },
    {
      "cell_type": "code",
      "execution_count": 30,
      "metadata": {
        "colab": {
          "base_uri": "https://localhost:8080/",
          "height": 206
        },
        "id": "kD4iIBLIAA4k",
        "outputId": "cf3a1598-3e22-4fc7-97ee-3df6a499b8a0"
      },
      "outputs": [
        {
          "data": {
            "text/html": [
              "<div>\n",
              "<style scoped>\n",
              "    .dataframe tbody tr th:only-of-type {\n",
              "        vertical-align: middle;\n",
              "    }\n",
              "\n",
              "    .dataframe tbody tr th {\n",
              "        vertical-align: top;\n",
              "    }\n",
              "\n",
              "    .dataframe thead th {\n",
              "        text-align: right;\n",
              "    }\n",
              "</style>\n",
              "<table border=\"1\" class=\"dataframe\">\n",
              "  <thead>\n",
              "    <tr style=\"text-align: right;\">\n",
              "      <th></th>\n",
              "      <th>home_team</th>\n",
              "      <th>away_team</th>\n",
              "      <th>home_score</th>\n",
              "      <th>away_score</th>\n",
              "      <th>tournament</th>\n",
              "      <th>city</th>\n",
              "      <th>country</th>\n",
              "      <th>neutral</th>\n",
              "      <th>year</th>\n",
              "    </tr>\n",
              "  </thead>\n",
              "  <tbody>\n",
              "    <tr>\n",
              "      <th>34005</th>\n",
              "      <td>Morocco</td>\n",
              "      <td>Tunisia</td>\n",
              "      <td>1</td>\n",
              "      <td>2</td>\n",
              "      <td>African Cup of Nations</td>\n",
              "      <td>Libreville</td>\n",
              "      <td>Gabon</td>\n",
              "      <td>True</td>\n",
              "      <td>2012</td>\n",
              "    </tr>\n",
              "    <tr>\n",
              "      <th>34031</th>\n",
              "      <td>Ghana</td>\n",
              "      <td>Tunisia</td>\n",
              "      <td>2</td>\n",
              "      <td>1</td>\n",
              "      <td>African Cup of Nations</td>\n",
              "      <td>Franceville</td>\n",
              "      <td>Gabon</td>\n",
              "      <td>True</td>\n",
              "      <td>2012</td>\n",
              "    </tr>\n",
              "    <tr>\n",
              "      <th>34060</th>\n",
              "      <td>Australia</td>\n",
              "      <td>Saudi Arabia</td>\n",
              "      <td>4</td>\n",
              "      <td>2</td>\n",
              "      <td>FIFA World Cup qualification</td>\n",
              "      <td>Melbourne</td>\n",
              "      <td>Australia</td>\n",
              "      <td>False</td>\n",
              "      <td>2012</td>\n",
              "    </tr>\n",
              "    <tr>\n",
              "      <th>34075</th>\n",
              "      <td>England</td>\n",
              "      <td>Netherlands</td>\n",
              "      <td>2</td>\n",
              "      <td>3</td>\n",
              "      <td>Friendly</td>\n",
              "      <td>London</td>\n",
              "      <td>England</td>\n",
              "      <td>False</td>\n",
              "      <td>2012</td>\n",
              "    </tr>\n",
              "    <tr>\n",
              "      <th>34079</th>\n",
              "      <td>Germany</td>\n",
              "      <td>France</td>\n",
              "      <td>1</td>\n",
              "      <td>2</td>\n",
              "      <td>Friendly</td>\n",
              "      <td>Bremen</td>\n",
              "      <td>Germany</td>\n",
              "      <td>False</td>\n",
              "      <td>2012</td>\n",
              "    </tr>\n",
              "  </tbody>\n",
              "</table>\n",
              "</div>"
            ],
            "text/plain": [
              "       home_team     away_team  home_score  away_score  \\\n",
              "34005    Morocco       Tunisia           1           2   \n",
              "34031      Ghana       Tunisia           2           1   \n",
              "34060  Australia  Saudi Arabia           4           2   \n",
              "34075    England   Netherlands           2           3   \n",
              "34079    Germany        France           1           2   \n",
              "\n",
              "                         tournament         city    country  neutral  year  \n",
              "34005        African Cup of Nations   Libreville      Gabon     True  2012  \n",
              "34031        African Cup of Nations  Franceville      Gabon     True  2012  \n",
              "34060  FIFA World Cup qualification    Melbourne  Australia    False  2012  \n",
              "34075                      Friendly       London    England    False  2012  \n",
              "34079                      Friendly       Bremen    Germany    False  2012  "
            ]
          },
          "execution_count": 30,
          "metadata": {},
          "output_type": "execute_result"
        }
      ],
      "source": [
        "# We remove the data of the countries that are not part of the world cup 2022 \n",
        "df.drop(df[~df['home_team'].isin(all_teams)].index, inplace = True)\n",
        "df.drop(df[~df['away_team'].isin(all_teams)].index, inplace = True)\n",
        "df.head(5)"
      ]
    },
    {
      "cell_type": "code",
      "execution_count": 31,
      "metadata": {
        "colab": {
          "base_uri": "https://localhost:8080/"
        },
        "id": "AK9dLe5HuCp7",
        "outputId": "39244562-ab4b-49b3-a8fa-b554810e2fce"
      },
      "outputs": [
        {
          "data": {
            "text/plain": [
              "array(['Argentina', 'Australia', 'Belgium', 'Brazil', 'Cameroon',\n",
              "       'Canada', 'Costa Rica', 'Croatia', 'Denmark', 'Ecuador', 'England',\n",
              "       'France', 'Germany', 'Ghana', 'Iran', 'Japan', 'Mexico', 'Morocco',\n",
              "       'Netherlands', 'Poland', 'Portugal', 'Qatar', 'Saudi Arabia',\n",
              "       'Senegal', 'Serbia', 'South Korea', 'Spain', 'Switzerland',\n",
              "       'Tunisia', 'United States', 'Uruguay', 'Wales'], dtype=object)"
            ]
          },
          "execution_count": 31,
          "metadata": {},
          "output_type": "execute_result"
        }
      ],
      "source": [
        "# List to obtain the unique countries values present in the dataset\n",
        "list_teams = np.unique(df[['away_team','home_team']].values)\n",
        "list_teams"
      ]
    },
    {
      "cell_type": "markdown",
      "metadata": {
        "id": "uJtXZNTy5iK-"
      },
      "source": [
        "##### Encode \n",
        "\n",
        "by FIFA Ranking at 23th of june 2022, information obtained from https://www.fifa.com/fifa-world-ranking/men?dateId=id13687\n",
        "\n",
        "This method is used to minimize the number of columns."
      ]
    },
    {
      "cell_type": "code",
      "execution_count": 32,
      "metadata": {
        "id": "4NBecHEZNRdm"
      },
      "outputs": [],
      "source": [
        "teams_points = {'Argentina' : 1770.65, 'Australia' : 1483.73, \n",
        "                'Belgium': 1821.92, 'Brazil' : 1837.56, 'Cameroon' : 1484.95, \n",
        "                'Canada' : 1473.82, 'Costa Rica' : 1500.06, 'Croatia' : 1632.15, \n",
        "                'Denmark' : 1665.47, 'Ecuador' : 1463.74, 'England' : 1737.46, \n",
        "                'France' : 1764.85, 'Germany' : 1658.96, 'Ghana' : 1389.68, \n",
        "                'Iran' : 1558.64, 'Japan' : 1552.77, 'Mexico' : 1649.57, \n",
        "                'Morocco' : 1558.9, 'Netherlands' : 1679.41, 'Poland' : 1546.18, \n",
        "                'Portugal' : 1678.65, 'Qatar' : 1441.41, \n",
        "                'Saudi Arabia' : 1435.74, 'Senegal' : 1593.45, \n",
        "                'Serbia' : 1549.53, 'South Korea' : 1526.2, 'Spain' : 1716.93, \n",
        "                'Switzerland' : 1621.43, 'Tunisia' : 1507.86, \n",
        "                'United States' : 1635.01, 'Uruguay' : 1643.71, \n",
        "                'Wales' : 1582.13}"
      ]
    },
    {
      "cell_type": "code",
      "execution_count": 33,
      "metadata": {
        "id": "S1GLgNJ1yXC2"
      },
      "outputs": [],
      "source": [
        "# Map the countries ranking points\n",
        "df ['h_team_points'] = df['home_team'].map(teams_points)\n",
        "df ['a_team_points'] = df['away_team'].map(teams_points)"
      ]
    },
    {
      "cell_type": "code",
      "execution_count": 34,
      "metadata": {
        "colab": {
          "base_uri": "https://localhost:8080/",
          "height": 206
        },
        "id": "y8HF2UZzyY2V",
        "outputId": "87e7e3e0-9047-4bf3-d940-d725a012f2ab"
      },
      "outputs": [
        {
          "data": {
            "text/html": [
              "<div>\n",
              "<style scoped>\n",
              "    .dataframe tbody tr th:only-of-type {\n",
              "        vertical-align: middle;\n",
              "    }\n",
              "\n",
              "    .dataframe tbody tr th {\n",
              "        vertical-align: top;\n",
              "    }\n",
              "\n",
              "    .dataframe thead th {\n",
              "        text-align: right;\n",
              "    }\n",
              "</style>\n",
              "<table border=\"1\" class=\"dataframe\">\n",
              "  <thead>\n",
              "    <tr style=\"text-align: right;\">\n",
              "      <th></th>\n",
              "      <th>home_team</th>\n",
              "      <th>away_team</th>\n",
              "      <th>home_score</th>\n",
              "      <th>away_score</th>\n",
              "      <th>tournament</th>\n",
              "      <th>city</th>\n",
              "      <th>country</th>\n",
              "      <th>neutral</th>\n",
              "      <th>year</th>\n",
              "      <th>h_team_points</th>\n",
              "      <th>a_team_points</th>\n",
              "    </tr>\n",
              "  </thead>\n",
              "  <tbody>\n",
              "    <tr>\n",
              "      <th>34005</th>\n",
              "      <td>Morocco</td>\n",
              "      <td>Tunisia</td>\n",
              "      <td>1</td>\n",
              "      <td>2</td>\n",
              "      <td>African Cup of Nations</td>\n",
              "      <td>Libreville</td>\n",
              "      <td>Gabon</td>\n",
              "      <td>True</td>\n",
              "      <td>2012</td>\n",
              "      <td>1558.90</td>\n",
              "      <td>1507.86</td>\n",
              "    </tr>\n",
              "    <tr>\n",
              "      <th>34031</th>\n",
              "      <td>Ghana</td>\n",
              "      <td>Tunisia</td>\n",
              "      <td>2</td>\n",
              "      <td>1</td>\n",
              "      <td>African Cup of Nations</td>\n",
              "      <td>Franceville</td>\n",
              "      <td>Gabon</td>\n",
              "      <td>True</td>\n",
              "      <td>2012</td>\n",
              "      <td>1389.68</td>\n",
              "      <td>1507.86</td>\n",
              "    </tr>\n",
              "    <tr>\n",
              "      <th>34060</th>\n",
              "      <td>Australia</td>\n",
              "      <td>Saudi Arabia</td>\n",
              "      <td>4</td>\n",
              "      <td>2</td>\n",
              "      <td>FIFA World Cup qualification</td>\n",
              "      <td>Melbourne</td>\n",
              "      <td>Australia</td>\n",
              "      <td>False</td>\n",
              "      <td>2012</td>\n",
              "      <td>1483.73</td>\n",
              "      <td>1435.74</td>\n",
              "    </tr>\n",
              "    <tr>\n",
              "      <th>34075</th>\n",
              "      <td>England</td>\n",
              "      <td>Netherlands</td>\n",
              "      <td>2</td>\n",
              "      <td>3</td>\n",
              "      <td>Friendly</td>\n",
              "      <td>London</td>\n",
              "      <td>England</td>\n",
              "      <td>False</td>\n",
              "      <td>2012</td>\n",
              "      <td>1737.46</td>\n",
              "      <td>1679.41</td>\n",
              "    </tr>\n",
              "    <tr>\n",
              "      <th>34079</th>\n",
              "      <td>Germany</td>\n",
              "      <td>France</td>\n",
              "      <td>1</td>\n",
              "      <td>2</td>\n",
              "      <td>Friendly</td>\n",
              "      <td>Bremen</td>\n",
              "      <td>Germany</td>\n",
              "      <td>False</td>\n",
              "      <td>2012</td>\n",
              "      <td>1658.96</td>\n",
              "      <td>1764.85</td>\n",
              "    </tr>\n",
              "  </tbody>\n",
              "</table>\n",
              "</div>"
            ],
            "text/plain": [
              "       home_team     away_team  home_score  away_score  \\\n",
              "34005    Morocco       Tunisia           1           2   \n",
              "34031      Ghana       Tunisia           2           1   \n",
              "34060  Australia  Saudi Arabia           4           2   \n",
              "34075    England   Netherlands           2           3   \n",
              "34079    Germany        France           1           2   \n",
              "\n",
              "                         tournament         city    country  neutral  year  \\\n",
              "34005        African Cup of Nations   Libreville      Gabon     True  2012   \n",
              "34031        African Cup of Nations  Franceville      Gabon     True  2012   \n",
              "34060  FIFA World Cup qualification    Melbourne  Australia    False  2012   \n",
              "34075                      Friendly       London    England    False  2012   \n",
              "34079                      Friendly       Bremen    Germany    False  2012   \n",
              "\n",
              "       h_team_points  a_team_points  \n",
              "34005        1558.90        1507.86  \n",
              "34031        1389.68        1507.86  \n",
              "34060        1483.73        1435.74  \n",
              "34075        1737.46        1679.41  \n",
              "34079        1658.96        1764.85  "
            ]
          },
          "execution_count": 34,
          "metadata": {},
          "output_type": "execute_result"
        }
      ],
      "source": [
        "df.head(5)"
      ]
    },
    {
      "cell_type": "code",
      "execution_count": 35,
      "metadata": {
        "id": "Zi5xnD0x7asQ"
      },
      "outputs": [],
      "source": [
        "# Remove the irrelevant columns\n",
        "df = df.drop(['country', 'city', 'home_team', 'away_team'], axis=1)"
      ]
    },
    {
      "cell_type": "code",
      "execution_count": 36,
      "metadata": {
        "colab": {
          "base_uri": "https://localhost:8080/",
          "height": 206
        },
        "id": "jI57DLi51nkC",
        "outputId": "63806121-375e-4548-8e76-21440b0371d6"
      },
      "outputs": [
        {
          "data": {
            "text/html": [
              "<div>\n",
              "<style scoped>\n",
              "    .dataframe tbody tr th:only-of-type {\n",
              "        vertical-align: middle;\n",
              "    }\n",
              "\n",
              "    .dataframe tbody tr th {\n",
              "        vertical-align: top;\n",
              "    }\n",
              "\n",
              "    .dataframe thead th {\n",
              "        text-align: right;\n",
              "    }\n",
              "</style>\n",
              "<table border=\"1\" class=\"dataframe\">\n",
              "  <thead>\n",
              "    <tr style=\"text-align: right;\">\n",
              "      <th></th>\n",
              "      <th>home_score</th>\n",
              "      <th>away_score</th>\n",
              "      <th>tournament</th>\n",
              "      <th>neutral</th>\n",
              "      <th>year</th>\n",
              "      <th>h_team_points</th>\n",
              "      <th>a_team_points</th>\n",
              "    </tr>\n",
              "  </thead>\n",
              "  <tbody>\n",
              "    <tr>\n",
              "      <th>34005</th>\n",
              "      <td>1</td>\n",
              "      <td>2</td>\n",
              "      <td>African Cup of Nations</td>\n",
              "      <td>True</td>\n",
              "      <td>2012</td>\n",
              "      <td>1558.90</td>\n",
              "      <td>1507.86</td>\n",
              "    </tr>\n",
              "    <tr>\n",
              "      <th>34031</th>\n",
              "      <td>2</td>\n",
              "      <td>1</td>\n",
              "      <td>African Cup of Nations</td>\n",
              "      <td>True</td>\n",
              "      <td>2012</td>\n",
              "      <td>1389.68</td>\n",
              "      <td>1507.86</td>\n",
              "    </tr>\n",
              "    <tr>\n",
              "      <th>34060</th>\n",
              "      <td>4</td>\n",
              "      <td>2</td>\n",
              "      <td>FIFA World Cup qualification</td>\n",
              "      <td>False</td>\n",
              "      <td>2012</td>\n",
              "      <td>1483.73</td>\n",
              "      <td>1435.74</td>\n",
              "    </tr>\n",
              "    <tr>\n",
              "      <th>34075</th>\n",
              "      <td>2</td>\n",
              "      <td>3</td>\n",
              "      <td>Friendly</td>\n",
              "      <td>False</td>\n",
              "      <td>2012</td>\n",
              "      <td>1737.46</td>\n",
              "      <td>1679.41</td>\n",
              "    </tr>\n",
              "    <tr>\n",
              "      <th>34079</th>\n",
              "      <td>1</td>\n",
              "      <td>2</td>\n",
              "      <td>Friendly</td>\n",
              "      <td>False</td>\n",
              "      <td>2012</td>\n",
              "      <td>1658.96</td>\n",
              "      <td>1764.85</td>\n",
              "    </tr>\n",
              "  </tbody>\n",
              "</table>\n",
              "</div>"
            ],
            "text/plain": [
              "       home_score  away_score                    tournament  neutral  year  \\\n",
              "34005           1           2        African Cup of Nations     True  2012   \n",
              "34031           2           1        African Cup of Nations     True  2012   \n",
              "34060           4           2  FIFA World Cup qualification    False  2012   \n",
              "34075           2           3                      Friendly    False  2012   \n",
              "34079           1           2                      Friendly    False  2012   \n",
              "\n",
              "       h_team_points  a_team_points  \n",
              "34005        1558.90        1507.86  \n",
              "34031        1389.68        1507.86  \n",
              "34060        1483.73        1435.74  \n",
              "34075        1737.46        1679.41  \n",
              "34079        1658.96        1764.85  "
            ]
          },
          "execution_count": 36,
          "metadata": {},
          "output_type": "execute_result"
        }
      ],
      "source": [
        "df.head(5)"
      ]
    },
    {
      "cell_type": "markdown",
      "metadata": {
        "id": "c_Lxz9Ni4f8f"
      },
      "source": [
        "### Tournaments importance"
      ]
    },
    {
      "cell_type": "markdown",
      "metadata": {
        "id": "kYFlKELC1uL5"
      },
      "source": [
        "How many tournaments do we have?\n",
        "What weight does each tournament have?\n",
        "\n",
        "To answer this questions and encode the tournament feature, first we list the tournaments present in the dataset and count the number of registers in each case. We then group similar tournaments together, map the data using this clasification. Finally, using the FIFA Ranking Procedures - importance of match we set the weight for each group."
      ]
    },
    {
      "cell_type": "code",
      "execution_count": 37,
      "metadata": {
        "colab": {
          "base_uri": "https://localhost:8080/"
        },
        "id": "Q7-Td7_sNQmb",
        "outputId": "96a70de8-7a43-4377-9c2c-50f891cf2b38"
      },
      "outputs": [
        {
          "data": {
            "text/plain": [
              "Friendly                                284\n",
              "FIFA World Cup qualification            118\n",
              "FIFA World Cup                           69\n",
              "UEFA Nations League                      58\n",
              "UEFA Euro                                35\n",
              "UEFA Euro qualification                  20\n",
              "Copa América                             16\n",
              "Gold Cup                                 14\n",
              "Confederations Cup                       12\n",
              "African Cup of Nations                   10\n",
              "AFC Asian Cup                             8\n",
              "EAFF Championship                         6\n",
              "Superclásico de las Américas              6\n",
              "Kirin Challenge Cup                       5\n",
              "African Cup of Nations qualification      4\n",
              "CONCACAF Nations League                   4\n",
              "African Nations Championship              3\n",
              "Gulf Cup                                  3\n",
              "WAFF Championship                         2\n",
              "Kirin Cup                                 2\n",
              "Arab Cup                                  1\n",
              "Name: tournament, dtype: int64"
            ]
          },
          "execution_count": 37,
          "metadata": {},
          "output_type": "execute_result"
        }
      ],
      "source": [
        "df.tournament.value_counts()"
      ]
    },
    {
      "cell_type": "code",
      "execution_count": 38,
      "metadata": {
        "id": "mft16jqxeY6s"
      },
      "outputs": [],
      "source": [
        "Friendly = ['Friendly', 'Superclásico de las Américas', 'Intercontinental Cup']\n",
        "Qualifications = ['FIFA World Cup qualification']\n",
        "WC = ['FIFA World Cup', 'Confederations Cup']\n",
        "Cups = ['African Cup of Nations qualification', 'African Cup of Nations', \n",
        "        'African Nations Championship qualification', \n",
        "        'African Nations Championship', 'Copa América qualification', \n",
        "        'Copa América', 'UEFA Euro qualification', 'UEFA Euro', \n",
        "        'UEFA Nations League', 'AFC Asian Cup qualification', 'AFC Asian Cup', \n",
        "        'CFU Caribbean Cup qualification', 'Oceania Nations Cup qualification',\n",
        "        'Oceania Nations Cup', 'CONCACAF Nations League qualification', \n",
        "        'CONCACAF Nations League', 'Gold Cup qualification', 'Gold Cup', \n",
        "        'Arab Cup qualification', 'Arab Cup', 'COSAFA Cup', 'CECAFA Cup',\n",
        "        'Gulf Cup', 'EAFF Championship', 'CFU Caribbean Cup', 'Baltic Cup']\n",
        "\n",
        "NoOthers = ['Friendly', 'Qualifications', 'WC', 'Cups']\n",
        "\n",
        "df['tournament'] = df['tournament'].apply(lambda x: x if x not in Friendly \n",
        "                                          else 'Friendly')\n",
        "df['tournament'] = df['tournament'].apply(lambda x: x if x not in Qualifications \n",
        "                                          else 'Qualifications')\n",
        "df['tournament'] = df['tournament'].apply(lambda x: x if x not in WC \n",
        "                                          else 'WC')\n",
        "df['tournament'] = df['tournament'].apply(lambda x: x if x not in Cups \n",
        "                                          else 'Cups')\n",
        "df['tournament'] = df['tournament'].apply(lambda x: x if x in NoOthers \n",
        "                                          else 'Others')"
      ]
    },
    {
      "cell_type": "code",
      "execution_count": 39,
      "metadata": {
        "id": "o2yJ0OzBmKRM"
      },
      "outputs": [],
      "source": [
        "tournament_points = {'Friendly':10, 'Qualifications':25, 'Cups':20, 'WC':55, 'Others':8}"
      ]
    },
    {
      "cell_type": "code",
      "execution_count": 40,
      "metadata": {
        "id": "HKUcU7hYoHhY"
      },
      "outputs": [],
      "source": [
        "df['tournament_point'] = df['tournament'].map(tournament_points)"
      ]
    },
    {
      "cell_type": "code",
      "execution_count": 41,
      "metadata": {
        "id": "W4JD0Fe-6jk1"
      },
      "outputs": [],
      "source": [
        "df = df.drop(['tournament'], axis=1)"
      ]
    },
    {
      "cell_type": "code",
      "execution_count": 42,
      "metadata": {
        "colab": {
          "base_uri": "https://localhost:8080/",
          "height": 206
        },
        "id": "LsiVOaHh7qI2",
        "outputId": "b83ad020-df62-472a-b564-55c3cf80a8ca"
      },
      "outputs": [
        {
          "data": {
            "text/html": [
              "<div>\n",
              "<style scoped>\n",
              "    .dataframe tbody tr th:only-of-type {\n",
              "        vertical-align: middle;\n",
              "    }\n",
              "\n",
              "    .dataframe tbody tr th {\n",
              "        vertical-align: top;\n",
              "    }\n",
              "\n",
              "    .dataframe thead th {\n",
              "        text-align: right;\n",
              "    }\n",
              "</style>\n",
              "<table border=\"1\" class=\"dataframe\">\n",
              "  <thead>\n",
              "    <tr style=\"text-align: right;\">\n",
              "      <th></th>\n",
              "      <th>home_score</th>\n",
              "      <th>away_score</th>\n",
              "      <th>neutral</th>\n",
              "      <th>year</th>\n",
              "      <th>h_team_points</th>\n",
              "      <th>a_team_points</th>\n",
              "      <th>tournament_point</th>\n",
              "    </tr>\n",
              "  </thead>\n",
              "  <tbody>\n",
              "    <tr>\n",
              "      <th>34005</th>\n",
              "      <td>1</td>\n",
              "      <td>2</td>\n",
              "      <td>True</td>\n",
              "      <td>2012</td>\n",
              "      <td>1558.90</td>\n",
              "      <td>1507.86</td>\n",
              "      <td>20</td>\n",
              "    </tr>\n",
              "    <tr>\n",
              "      <th>34031</th>\n",
              "      <td>2</td>\n",
              "      <td>1</td>\n",
              "      <td>True</td>\n",
              "      <td>2012</td>\n",
              "      <td>1389.68</td>\n",
              "      <td>1507.86</td>\n",
              "      <td>20</td>\n",
              "    </tr>\n",
              "    <tr>\n",
              "      <th>34060</th>\n",
              "      <td>4</td>\n",
              "      <td>2</td>\n",
              "      <td>False</td>\n",
              "      <td>2012</td>\n",
              "      <td>1483.73</td>\n",
              "      <td>1435.74</td>\n",
              "      <td>25</td>\n",
              "    </tr>\n",
              "    <tr>\n",
              "      <th>34075</th>\n",
              "      <td>2</td>\n",
              "      <td>3</td>\n",
              "      <td>False</td>\n",
              "      <td>2012</td>\n",
              "      <td>1737.46</td>\n",
              "      <td>1679.41</td>\n",
              "      <td>10</td>\n",
              "    </tr>\n",
              "    <tr>\n",
              "      <th>34079</th>\n",
              "      <td>1</td>\n",
              "      <td>2</td>\n",
              "      <td>False</td>\n",
              "      <td>2012</td>\n",
              "      <td>1658.96</td>\n",
              "      <td>1764.85</td>\n",
              "      <td>10</td>\n",
              "    </tr>\n",
              "  </tbody>\n",
              "</table>\n",
              "</div>"
            ],
            "text/plain": [
              "       home_score  away_score  neutral  year  h_team_points  a_team_points  \\\n",
              "34005           1           2     True  2012        1558.90        1507.86   \n",
              "34031           2           1     True  2012        1389.68        1507.86   \n",
              "34060           4           2    False  2012        1483.73        1435.74   \n",
              "34075           2           3    False  2012        1737.46        1679.41   \n",
              "34079           1           2    False  2012        1658.96        1764.85   \n",
              "\n",
              "       tournament_point  \n",
              "34005                20  \n",
              "34031                20  \n",
              "34060                25  \n",
              "34075                10  \n",
              "34079                10  "
            ]
          },
          "execution_count": 42,
          "metadata": {},
          "output_type": "execute_result"
        }
      ],
      "source": [
        "df.head(5)"
      ]
    },
    {
      "cell_type": "markdown",
      "metadata": {
        "id": "Z-_ZmCar4Axv"
      },
      "source": [
        "### Setting the match winner \n",
        "\n",
        "Using the goal difference."
      ]
    },
    {
      "cell_type": "code",
      "execution_count": 43,
      "metadata": {
        "id": "uxduzFWM8Nod"
      },
      "outputs": [],
      "source": [
        "# Setting the match winner using the goal difference\n",
        "df['match_result'] = np.where(df['home_score'] - df['away_score'] > 0, 'WIN', np.where(df['home_score'] - df['away_score'] < 0, 'LOSE', 'DRAW'))"
      ]
    },
    {
      "cell_type": "code",
      "execution_count": 44,
      "metadata": {
        "id": "Pl4lxGbG7-lF"
      },
      "outputs": [],
      "source": [
        "df = df.drop(['home_score',\t'away_score' ], axis=1)"
      ]
    },
    {
      "cell_type": "markdown",
      "metadata": {
        "id": "A2BRDj3OegtW"
      },
      "source": [
        "### Encoding Neutral feature"
      ]
    },
    {
      "cell_type": "code",
      "execution_count": 45,
      "metadata": {
        "id": "5yrRP0hjej8d"
      },
      "outputs": [],
      "source": [
        "df ['neutral'] = df['neutral'].map({True: 1, False: 0})"
      ]
    },
    {
      "cell_type": "code",
      "execution_count": 46,
      "metadata": {
        "colab": {
          "base_uri": "https://localhost:8080/",
          "height": 206
        },
        "id": "0IkcEgBcglFH",
        "outputId": "a3eeb062-350c-4c6a-995f-c1fdaec4a5ce"
      },
      "outputs": [
        {
          "data": {
            "text/html": [
              "<div>\n",
              "<style scoped>\n",
              "    .dataframe tbody tr th:only-of-type {\n",
              "        vertical-align: middle;\n",
              "    }\n",
              "\n",
              "    .dataframe tbody tr th {\n",
              "        vertical-align: top;\n",
              "    }\n",
              "\n",
              "    .dataframe thead th {\n",
              "        text-align: right;\n",
              "    }\n",
              "</style>\n",
              "<table border=\"1\" class=\"dataframe\">\n",
              "  <thead>\n",
              "    <tr style=\"text-align: right;\">\n",
              "      <th></th>\n",
              "      <th>neutral</th>\n",
              "      <th>year</th>\n",
              "      <th>h_team_points</th>\n",
              "      <th>a_team_points</th>\n",
              "      <th>tournament_point</th>\n",
              "      <th>match_result</th>\n",
              "    </tr>\n",
              "  </thead>\n",
              "  <tbody>\n",
              "    <tr>\n",
              "      <th>34005</th>\n",
              "      <td>1</td>\n",
              "      <td>2012</td>\n",
              "      <td>1558.90</td>\n",
              "      <td>1507.86</td>\n",
              "      <td>20</td>\n",
              "      <td>LOSE</td>\n",
              "    </tr>\n",
              "    <tr>\n",
              "      <th>34031</th>\n",
              "      <td>1</td>\n",
              "      <td>2012</td>\n",
              "      <td>1389.68</td>\n",
              "      <td>1507.86</td>\n",
              "      <td>20</td>\n",
              "      <td>WIN</td>\n",
              "    </tr>\n",
              "    <tr>\n",
              "      <th>34060</th>\n",
              "      <td>0</td>\n",
              "      <td>2012</td>\n",
              "      <td>1483.73</td>\n",
              "      <td>1435.74</td>\n",
              "      <td>25</td>\n",
              "      <td>WIN</td>\n",
              "    </tr>\n",
              "    <tr>\n",
              "      <th>34075</th>\n",
              "      <td>0</td>\n",
              "      <td>2012</td>\n",
              "      <td>1737.46</td>\n",
              "      <td>1679.41</td>\n",
              "      <td>10</td>\n",
              "      <td>LOSE</td>\n",
              "    </tr>\n",
              "    <tr>\n",
              "      <th>34079</th>\n",
              "      <td>0</td>\n",
              "      <td>2012</td>\n",
              "      <td>1658.96</td>\n",
              "      <td>1764.85</td>\n",
              "      <td>10</td>\n",
              "      <td>LOSE</td>\n",
              "    </tr>\n",
              "  </tbody>\n",
              "</table>\n",
              "</div>"
            ],
            "text/plain": [
              "       neutral  year  h_team_points  a_team_points  tournament_point  \\\n",
              "34005        1  2012        1558.90        1507.86                20   \n",
              "34031        1  2012        1389.68        1507.86                20   \n",
              "34060        0  2012        1483.73        1435.74                25   \n",
              "34075        0  2012        1737.46        1679.41                10   \n",
              "34079        0  2012        1658.96        1764.85                10   \n",
              "\n",
              "      match_result  \n",
              "34005         LOSE  \n",
              "34031          WIN  \n",
              "34060          WIN  \n",
              "34075         LOSE  \n",
              "34079         LOSE  "
            ]
          },
          "execution_count": 46,
          "metadata": {},
          "output_type": "execute_result"
        }
      ],
      "source": [
        "df.head(5)"
      ]
    },
    {
      "cell_type": "markdown",
      "metadata": {
        "id": "jhzei1sIpniO"
      },
      "source": [
        "### Final Shape"
      ]
    },
    {
      "cell_type": "code",
      "execution_count": 47,
      "metadata": {
        "colab": {
          "base_uri": "https://localhost:8080/"
        },
        "id": "i0TWaCt5pt7-",
        "outputId": "f65d8b6e-9039-48f5-cf03-08d6558c3187"
      },
      "outputs": [
        {
          "name": "stdout",
          "output_type": "stream",
          "text": [
            "<class 'pandas.core.frame.DataFrame'>\n",
            "Int64Index: 680 entries, 34005 to 43750\n",
            "Data columns (total 6 columns):\n",
            " #   Column            Non-Null Count  Dtype  \n",
            "---  ------            --------------  -----  \n",
            " 0   neutral           680 non-null    int64  \n",
            " 1   year              680 non-null    int64  \n",
            " 2   h_team_points     680 non-null    float64\n",
            " 3   a_team_points     680 non-null    float64\n",
            " 4   tournament_point  680 non-null    int64  \n",
            " 5   match_result      680 non-null    object \n",
            "dtypes: float64(2), int64(3), object(1)\n",
            "memory usage: 37.2+ KB\n"
          ]
        }
      ],
      "source": [
        "df.info()"
      ]
    },
    {
      "cell_type": "markdown",
      "metadata": {
        "id": "VWE2yg9694Fv"
      },
      "source": [
        "## Balance in the data"
      ]
    },
    {
      "cell_type": "code",
      "execution_count": 48,
      "metadata": {
        "colab": {
          "base_uri": "https://localhost:8080/",
          "height": 502
        },
        "id": "MEQ9L5YYYWRv",
        "outputId": "15267db7-95e8-4fe4-be98-bed8f68571de"
      },
      "outputs": [
        {
          "data": {
            "image/png": "[encoded data removed]",
            "text/plain": [
              "<Figure size 1080x576 with 1 Axes>"
            ]
          },
          "metadata": {},
          "output_type": "display_data"
        }
      ],
      "source": [
        "sns.set(rc = {'figure.figsize':(15,8)})\n",
        "data = df.sort_values(by=['match_result'])\n",
        "sns.countplot(x=data['match_result'], data=data, order=df['match_result'].value_counts().index)\n",
        "plt.show()"
      ]
    },
    {
      "cell_type": "markdown",
      "metadata": {
        "id": "e8yQU1FN_yxf"
      },
      "source": [
        "## Correlation"
      ]
    },
    {
      "cell_type": "code",
      "execution_count": 49,
      "metadata": {
        "colab": {
          "base_uri": "https://localhost:8080/",
          "height": 507
        },
        "id": "m5f0UNv1_3Rj",
        "outputId": "2018e79a-536d-4537-8584-8baf3daf2161"
      },
      "outputs": [
        {
          "data": {
            "text/plain": [
              "<AxesSubplot:>"
            ]
          },
          "execution_count": 49,
          "metadata": {},
          "output_type": "execute_result"
        },
        {
          "data": {
            "image/png": "[encoded data removed]",
            "text/plain": [
              "<Figure size 864x576 with 2 Axes>"
            ]
          },
          "metadata": {},
          "output_type": "display_data"
        }
      ],
      "source": [
        "plt.figure(figsize=(12, 8))\n",
        "sns.heatmap(df.corr(), annot=True,cmap='viridis', vmax=1, vmin=-1, center=0)"
      ]
    },
    {
      "cell_type": "markdown",
      "metadata": {
        "id": "uuy_aSNFLURf"
      },
      "source": [
        "## Modeling"
      ]
    },
    {
      "cell_type": "code",
      "execution_count": 50,
      "metadata": {
        "id": "karPAoyVapl-"
      },
      "outputs": [],
      "source": [
        "# train-test split: train: before 2018(Russia WC), test: after 2018 (including WC)\n",
        "Train = df[df['year'] < 2018]\n",
        "Test = df[df['year'] >= 2018]"
      ]
    },
    {
      "cell_type": "code",
      "execution_count": 51,
      "metadata": {
        "id": "mndxdkajay2n"
      },
      "outputs": [],
      "source": [
        "# train-test split: train: no WC matches, test: WC matches\n",
        "#Train = df[(df['tournament_point'] != 55)]\n",
        "#Test = df[(df['tournament_point'] == 55)]"
      ]
    },
    {
      "cell_type": "code",
      "execution_count": 52,
      "metadata": {
        "id": "sW0mPS-ALmni"
      },
      "outputs": [],
      "source": [
        "X_train = Train.drop('match_result', axis='columns')\n",
        "y_train = Train['match_result']\n",
        "\n",
        "X_test = Test.drop('match_result', axis='columns')\n",
        "y_test = Test['match_result']"
      ]
    },
    {
      "cell_type": "code",
      "execution_count": 53,
      "metadata": {
        "colab": {
          "base_uri": "https://localhost:8080/"
        },
        "id": "0D8fq5uoMKFS",
        "outputId": "f093cc55-f2e6-4959-c2be-9a06d724f192"
      },
      "outputs": [
        {
          "data": {
            "text/html": [
              "<style>#sk-container-id-1 {color: black;background-color: white;}#sk-container-id-1 pre{padding: 0;}#sk-container-id-1 div.sk-toggleable {background-color: white;}#sk-container-id-1 label.sk-toggleable__label {cursor: pointer;display: block;width: 100%;margin-bottom: 0;padding: 0.3em;box-sizing: border-box;text-align: center;}#sk-container-id-1 label.sk-toggleable__label-arrow:before {content: \"▸\";float: left;margin-right: 0.25em;color: #696969;}#sk-container-id-1 label.sk-toggleable__label-arrow:hover:before {color: black;}#sk-container-id-1 div.sk-estimator:hover label.sk-toggleable__label-arrow:before {color: black;}#sk-container-id-1 div.sk-toggleable__content {max-height: 0;max-width: 0;overflow: hidden;text-align: left;background-color: #f0f8ff;}#sk-container-id-1 div.sk-toggleable__content pre {margin: 0.2em;color: black;border-radius: 0.25em;background-color: #f0f8ff;}#sk-container-id-1 input.sk-toggleable__control:checked~div.sk-toggleable__content {max-height: 200px;max-width: 100%;overflow: auto;}#sk-container-id-1 input.sk-toggleable__control:checked~label.sk-toggleable__label-arrow:before {content: \"▾\";}#sk-container-id-1 div.sk-estimator input.sk-toggleable__control:checked~label.sk-toggleable__label {background-color: #d4ebff;}#sk-container-id-1 div.sk-label input.sk-toggleable__control:checked~label.sk-toggleable__label {background-color: #d4ebff;}#sk-container-id-1 input.sk-hidden--visually {border: 0;clip: rect(1px 1px 1px 1px);clip: rect(1px, 1px, 1px, 1px);height: 1px;margin: -1px;overflow: hidden;padding: 0;position: absolute;width: 1px;}#sk-container-id-1 div.sk-estimator {font-family: monospace;background-color: #f0f8ff;border: 1px dotted black;border-radius: 0.25em;box-sizing: border-box;margin-bottom: 0.5em;}#sk-container-id-1 div.sk-estimator:hover {background-color: #d4ebff;}#sk-container-id-1 div.sk-parallel-item::after {content: \"\";width: 100%;border-bottom: 1px solid gray;flex-grow: 1;}#sk-container-id-1 div.sk-label:hover label.sk-toggleable__label {background-color: #d4ebff;}#sk-container-id-1 div.sk-serial::before {content: \"\";position: absolute;border-left: 1px solid gray;box-sizing: border-box;top: 0;bottom: 0;left: 50%;z-index: 0;}#sk-container-id-1 div.sk-serial {display: flex;flex-direction: column;align-items: center;background-color: white;padding-right: 0.2em;padding-left: 0.2em;position: relative;}#sk-container-id-1 div.sk-item {position: relative;z-index: 1;}#sk-container-id-1 div.sk-parallel {display: flex;align-items: stretch;justify-content: center;background-color: white;position: relative;}#sk-container-id-1 div.sk-item::before, #sk-container-id-1 div.sk-parallel-item::before {content: \"\";position: absolute;border-left: 1px solid gray;box-sizing: border-box;top: 0;bottom: 0;left: 50%;z-index: -1;}#sk-container-id-1 div.sk-parallel-item {display: flex;flex-direction: column;z-index: 1;position: relative;background-color: white;}#sk-container-id-1 div.sk-parallel-item:first-child::after {align-self: flex-end;width: 50%;}#sk-container-id-1 div.sk-parallel-item:last-child::after {align-self: flex-start;width: 50%;}#sk-container-id-1 div.sk-parallel-item:only-child::after {width: 0;}#sk-container-id-1 div.sk-dashed-wrapped {border: 1px dashed gray;margin: 0 0.4em 0.5em 0.4em;box-sizing: border-box;padding-bottom: 0.4em;background-color: white;}#sk-container-id-1 div.sk-label label {font-family: monospace;font-weight: bold;display: inline-block;line-height: 1.2em;}#sk-container-id-1 div.sk-label-container {text-align: center;}#sk-container-id-1 div.sk-container {/* jupyter's `normalize.less` sets `[hidden] { display: none; }` but bootstrap.min.css set `[hidden] { display: none !important; }` so we also need the `!important` here to be able to override the default hidden behavior on the sphinx rendered scikit-learn.org. See: https://github.com/scikit-learn/scikit-learn/issues/21755 */display: inline-block !important;position: relative;}#sk-container-id-1 div.sk-text-repr-fallback {display: none;}</style><div id=\"sk-container-id-1\" class=\"sk-top-container\"><div class=\"sk-text-repr-fallback\"><pre>GradientBoostingClassifier(max_depth=4, n_estimators=90, random_state=13)</pre><b>In a Jupyter environment, please rerun this cell to show the HTML representation or trust the notebook. <br />On GitHub, the HTML representation is unable to render, please try loading this page with nbviewer.org.</b></div><div class=\"sk-container\" hidden><div class=\"sk-item\"><div class=\"sk-estimator sk-toggleable\"><input class=\"sk-toggleable__control sk-hidden--visually\" id=\"sk-estimator-id-1\" type=\"checkbox\" checked><label for=\"sk-estimator-id-1\" class=\"sk-toggleable__label sk-toggleable__label-arrow\">GradientBoostingClassifier</label><div class=\"sk-toggleable__content\"><pre>GradientBoostingClassifier(max_depth=4, n_estimators=90, random_state=13)</pre></div></div></div></div></div>"
            ],
            "text/plain": [
              "GradientBoostingClassifier(max_depth=4, n_estimators=90, random_state=13)"
            ]
          },
          "execution_count": 53,
          "metadata": {},
          "output_type": "execute_result"
        }
      ],
      "source": [
        "# Gradient Boosting:\n",
        "model_GB = GradientBoostingClassifier(learning_rate=0.1, n_estimators=90, max_depth=4, random_state=13)\n",
        "model_GB.fit(X_train, y_train)"
      ]
    },
    {
      "cell_type": "code",
      "execution_count": 54,
      "metadata": {
        "colab": {
          "base_uri": "https://localhost:8080/",
          "height": 1000
        },
        "id": "qe3Z6cd8MQvz",
        "outputId": "93c57f87-447b-47c1-973b-90afdef342ed"
      },
      "outputs": [
        {
          "data": {
            "image/png": "[encoded data removed]",
            "text/plain": [
              "<Figure size 864x864 with 2 Axes>"
            ]
          },
          "metadata": {},
          "output_type": "display_data"
        },
        {
          "name": "stdout",
          "output_type": "stream",
          "text": [
            "CLASSIFICATION REPORT: goal_difference \n",
            "               precision    recall  f1-score   support\n",
            "\n",
            "        DRAW       0.28      0.34      0.31        79\n",
            "        LOSE       0.61      0.40      0.49        89\n",
            "         WIN       0.60      0.66      0.63       134\n",
            "\n",
            "    accuracy                           0.50       302\n",
            "   macro avg       0.50      0.47      0.47       302\n",
            "weighted avg       0.52      0.50      0.50       302\n",
            "\n",
            "The score for Decision Tree with X_train & y_train is: 0.9365079365079365\n",
            "The score for Decision Tree with X_test & y_test is: 0.5\n",
            "Tree params: \n",
            " {'ccp_alpha': 0.0, 'criterion': 'friedman_mse', 'init': None, 'learning_rate': 0.1, 'loss': 'log_loss', 'max_depth': 4, 'max_features': None, 'max_leaf_nodes': None, 'min_impurity_decrease': 0.0, 'min_samples_leaf': 1, 'min_samples_split': 2, 'min_weight_fraction_leaf': 0.0, 'n_estimators': 90, 'n_iter_no_change': None, 'random_state': 13, 'subsample': 1.0, 'tol': 0.0001, 'validation_fraction': 0.1, 'verbose': 0, 'warm_start': False}\n"
          ]
        }
      ],
      "source": [
        "# Metrics & Results:\n",
        "y_pred = model_GB.predict(X_test)\n",
        "\n",
        "cm = confusion_matrix(y_pred, y_test)\n",
        "\n",
        "plt.figure(figsize=(12,12))\n",
        "sns.heatmap(cm, annot=True, cmap='YlGnBu', linecolor='black', linewidths=1)\n",
        "plt.title(\"Confusion Matrix for match_result\")\n",
        "plt.xlabel(\"Real\")\n",
        "plt.ylabel(\"Predicted\")\n",
        "plt.show()\n",
        "\n",
        "print(f'CLASSIFICATION REPORT: goal_difference \\n {classification_report(y_test, y_pred)}')\n",
        "\n",
        "# Get the score of train data just to verify its 1.\n",
        "score = model_GB.score(X_train, y_train)\n",
        "print(f'The score for Decision Tree with X_train & y_train is: {score}')\n",
        "\n",
        "#Get the score for the predictions:\n",
        "score = model_GB.score(X_test, y_test)\n",
        "print(f'The score for Decision Tree with X_test & y_test is: {score}')\n",
        "\n",
        "# Tree params\n",
        "print(f'Tree params: \\n {model_GB.get_params()}')"
      ]
    },
    {
      "cell_type": "code",
      "execution_count": 55,
      "metadata": {
        "colab": {
          "base_uri": "https://localhost:8080/"
        },
        "id": "gK_fcwcrxdXP",
        "outputId": "157bdb33-522f-4cef-b360-7d3338b63071"
      },
      "outputs": [
        {
          "data": {
            "text/plain": [
              "['GB_WC-predictions.pkl']"
            ]
          },
          "execution_count": 55,
          "metadata": {},
          "output_type": "execute_result"
        }
      ],
      "source": [
        "joblib.dump(model_GB, 'GB_WC-predictions.pkl')"
      ]
    },
    {
      "cell_type": "code",
      "execution_count": 57,
      "metadata": {},
      "outputs": [
        {
          "data": {
            "text/html": [
              "<div>\n",
              "<style scoped>\n",
              "    .dataframe tbody tr th:only-of-type {\n",
              "        vertical-align: middle;\n",
              "    }\n",
              "\n",
              "    .dataframe tbody tr th {\n",
              "        vertical-align: top;\n",
              "    }\n",
              "\n",
              "    .dataframe thead th {\n",
              "        text-align: right;\n",
              "    }\n",
              "</style>\n",
              "<table border=\"1\" class=\"dataframe\">\n",
              "  <thead>\n",
              "    <tr style=\"text-align: right;\">\n",
              "      <th></th>\n",
              "      <th>neutral</th>\n",
              "      <th>year</th>\n",
              "      <th>h_team_points</th>\n",
              "      <th>a_team_points</th>\n",
              "      <th>tournament_point</th>\n",
              "      <th>match_result</th>\n",
              "    </tr>\n",
              "  </thead>\n",
              "  <tbody>\n",
              "    <tr>\n",
              "      <th>34005</th>\n",
              "      <td>1</td>\n",
              "      <td>2012</td>\n",
              "      <td>1558.9</td>\n",
              "      <td>1507.86</td>\n",
              "      <td>20</td>\n",
              "      <td>LOSE</td>\n",
              "    </tr>\n",
              "  </tbody>\n",
              "</table>\n",
              "</div>"
            ],
            "text/plain": [
              "       neutral  year  h_team_points  a_team_points  tournament_point  \\\n",
              "34005        1  2012         1558.9        1507.86                20   \n",
              "\n",
              "      match_result  \n",
              "34005         LOSE  "
            ]
          },
          "execution_count": 57,
          "metadata": {},
          "output_type": "execute_result"
        }
      ],
      "source": [
        "df.head(1)"
      ]
    },
    {
      "cell_type": "code",
      "execution_count": 56,
      "metadata": {
        "colab": {
          "base_uri": "https://localhost:8080/"
        },
        "id": "rWXNLUBSlJHJ",
        "outputId": "33a8a36d-7384-453d-c06e-441a7a772206"
      },
      "outputs": [
        {
          "name": "stdout",
          "output_type": "stream",
          "text": [
            "Predict match:\n",
            " ['LOSE']\n"
          ]
        },
        {
          "name": "stderr",
          "output_type": "stream",
          "text": [
            "/home/jgayoso/.local/lib/python3.10/site-packages/sklearn/base.py:450: UserWarning: X does not have valid feature names, but GradientBoostingClassifier was fitted with feature names\n",
            "  warnings.warn(\n"
          ]
        }
      ],
      "source": [
        "match = [1, 2022, 'Qatar', 'Uruguay', 'WC']\n",
        "\n",
        "# If 'home_team' == 'Qatar': neutral=False, else neutral=True\n",
        "if match[2] == 'Qatar' :\n",
        "  match[0] = 0\n",
        "else :\n",
        "  match[0] = 1\n",
        "\n",
        "match[2], match[3], match[4] = teams_points[match[2]], teams_points[match[3]], tournament_points[match[4]]\n",
        "\n",
        "print('Predict match:\\n', model_GB.predict([match]))"
      ]
    }
  ],
  "metadata": {
    "colab": {
      "collapsed_sections": [],
      "name": "final_project",
      "provenance": []
    },
    "kernelspec": {
      "display_name": "Python 3.10.4 64-bit",
      "language": "python",
      "name": "python3"
    },
    "language_info": {
      "codemirror_mode": {
        "name": "ipython",
        "version": 3
      },
      "file_extension": ".py",
      "mimetype": "text/x-python",
      "name": "python",
      "nbconvert_exporter": "python",
      "pygments_lexer": "ipython3",
      "version": "3.10.4"
    },
    "vscode": {
      "interpreter": {
        "hash": "916dbcbb3f70747c44a77c7bcd40155683ae19c65e1c03b4aa3499c5328201f1"
      }
    }
  },
  "nbformat": 4,
  "nbformat_minor": 0
}
